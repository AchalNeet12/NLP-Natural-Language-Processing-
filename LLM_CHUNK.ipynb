{
 "cells": [
  {
   "cell_type": "markdown",
   "id": "2eeb7f18-fbc8-4a28-9d8e-fd1109cb0dc6",
   "metadata": {},
   "source": [
    "- For chunking text to process with large language models (LLMs), you can create a simple function that splits long texts into smaller chunks.\r\n",
    "\r\n",
    "- This is particularly useful when the input text exceeds the model's token limit. Below is an example using Python, leveraging the transformers library to illustrate how you can chunk text before feeding it into an LLM."
   ]
  },
  {
   "cell_type": "code",
   "execution_count": 2,
   "id": "5c002256-c397-4920-8213-ce7a89b53e88",
   "metadata": {},
   "outputs": [
    {
     "name": "stdout",
     "output_type": "stream",
     "text": [
      "Requirement already satisfied: transformers in c:\\users\\user\\anaconda3\\lib\\site-packages (4.47.0)\n",
      "Requirement already satisfied: filelock in c:\\users\\user\\appdata\\roaming\\python\\python312\\site-packages (from transformers) (3.16.1)\n",
      "Requirement already satisfied: huggingface-hub<1.0,>=0.24.0 in c:\\users\\user\\anaconda3\\lib\\site-packages (from transformers) (0.26.5)\n",
      "Requirement already satisfied: numpy>=1.17 in c:\\users\\user\\appdata\\roaming\\python\\python312\\site-packages (from transformers) (1.26.4)\n",
      "Requirement already satisfied: packaging>=20.0 in c:\\users\\user\\appdata\\roaming\\python\\python312\\site-packages (from transformers) (24.1)\n",
      "Requirement already satisfied: pyyaml>=5.1 in c:\\users\\user\\anaconda3\\lib\\site-packages (from transformers) (6.0.1)\n",
      "Requirement already satisfied: regex!=2019.12.17 in c:\\users\\user\\appdata\\roaming\\python\\python312\\site-packages (from transformers) (2024.11.6)\n",
      "Requirement already satisfied: requests in c:\\users\\user\\appdata\\roaming\\python\\python312\\site-packages (from transformers) (2.32.3)\n",
      "Requirement already satisfied: tokenizers<0.22,>=0.21 in c:\\users\\user\\anaconda3\\lib\\site-packages (from transformers) (0.21.0)\n",
      "Requirement already satisfied: safetensors>=0.4.1 in c:\\users\\user\\anaconda3\\lib\\site-packages (from transformers) (0.4.5)\n",
      "Requirement already satisfied: tqdm>=4.27 in c:\\users\\user\\appdata\\roaming\\python\\python312\\site-packages (from transformers) (4.67.1)\n",
      "Requirement already satisfied: fsspec>=2023.5.0 in c:\\users\\user\\appdata\\roaming\\python\\python312\\site-packages (from huggingface-hub<1.0,>=0.24.0->transformers) (2024.10.0)\n",
      "Requirement already satisfied: typing-extensions>=3.7.4.3 in c:\\users\\user\\appdata\\roaming\\python\\python312\\site-packages (from huggingface-hub<1.0,>=0.24.0->transformers) (4.12.2)\n",
      "Requirement already satisfied: colorama in c:\\users\\user\\appdata\\roaming\\python\\python312\\site-packages (from tqdm>=4.27->transformers) (0.4.6)\n",
      "Requirement already satisfied: charset-normalizer<4,>=2 in c:\\users\\user\\appdata\\roaming\\python\\python312\\site-packages (from requests->transformers) (3.3.2)\n",
      "Requirement already satisfied: idna<4,>=2.5 in c:\\users\\user\\appdata\\roaming\\python\\python312\\site-packages (from requests->transformers) (3.6)\n",
      "Requirement already satisfied: urllib3<3,>=1.21.1 in c:\\users\\user\\appdata\\roaming\\python\\python312\\site-packages (from requests->transformers) (2.2.0)\n",
      "Requirement already satisfied: certifi>=2017.4.17 in c:\\users\\user\\appdata\\roaming\\python\\python312\\site-packages (from requests->transformers) (2024.2.2)\n"
     ]
    }
   ],
   "source": [
    "!pip install transformers"
   ]
  },
  {
   "cell_type": "markdown",
   "id": "d89ebb59-61b9-4173-bef2-267422f0581e",
   "metadata": {},
   "source": [
    "- The term \"transformers\" in the context of natural language processing (NLP) and machine learning can refer to various models and architectures built upon the original transformer architecture introduced in the paper \"Attention is All You Need\" by Vaswani et al. in 2017. Here are some key transformer models and variants that have been developed since then:\r\n",
    "\r\n",
    "1. BERT (Bidirectional Encoder Representations from Transformers)\r\n",
    "Focuses on understanding context in both directions (left and right) using masked language modeling.\r\n",
    "2. GPT (Generative Pre-trained Transformer)\r\n",
    "Developed by OpenAI, GPT models (like GPT-2 and GPT-3) are autoregressive models primarily used for text generation.\r\n",
    "3. T5 (Text-to-Text Transfer Transformer)\r\n",
    "Treats every NLP task as a text-to-text problem, making it very flexible across various applications.\r\n",
    "4. RoBERTa (A Robustly Optimized BERT Pretraining Approach)\r\n",
    "An improvement over BERT with more training data and different training strategies.\r\n",
    "5. XLNet\r\n",
    "Combines the ideas of BERT and autoregressive models, allowing for better capturing of context and dependencies.\r\n",
    "6. ALBERT (A Lite BERT)\r\n",
    "A smaller and more efficient version of BERT that reduces the number of parameters while maintaining performance.\r\n",
    "7. DistilBERT\r\n",
    "A distilled version of BERT that is smaller and faster while retaining much of its performance.\r\n",
    "8. ERNIE (Enhanced Representation through kNowledge Integration)\r\n",
    "Developed by Baidu, it incorporates external knowledge to improve language understanding.\r\n",
    "9. ELECTRA\r\n",
    "Instead of masking tokens like BERT, ELECTRA predicts replaced tokens, leading to more efficient training.\r\n",
    "10. DeBERTa (Decoding-enhanced BERT with Disentangled Attention)\r\n",
    "Uses a disentangled attention mechanism to improve performance on various NLP tasks.\r\n",
    "11. Vision Transformers (ViT)\r\n",
    "Adapts the transformer architecture for image processing tasks, treating images as sequences of patches.\r\n",
    "12. BART (Bidirectional and Auto-Regressive Transformers)\r\n",
    "Combines BERT's bidirectional encoding and GPT's autoregressive decoding for tasks like summarization and translation.\r\n",
    "13. LayoutLM\r\n",
    "Designed for document understanding, incorporating layout information from scanned documents.\r\n",
    "14. Swin Transformer\r\n",
    "A hierarchical vision transformer that can be used for both image classification and detection tasks.\r\n",
    "15. Transformer-XL\r\n",
    "Introduces recurrence to the transformer architecture, allowing it to handle longer sequences more effectively.\r\n",
    "These are just some of the prominent transformer models and architectures. The field is rapidly evolving, with new variations and improvements continually being introduced, so the number and types of transformers are continually growing."
   ]
  },
  {
   "cell_type": "code",
   "execution_count": 5,
   "id": "78cb9568-7510-473c-8f90-54a496cbf099",
   "metadata": {},
   "outputs": [
    {
     "data": {
      "application/vnd.jupyter.widget-view+json": {
       "model_id": "233e76d3c6fc43389d31fd9362a587af",
       "version_major": 2,
       "version_minor": 0
      },
      "text/plain": [
       "tokenizer_config.json:   0%|          | 0.00/26.0 [00:00<?, ?B/s]"
      ]
     },
     "metadata": {},
     "output_type": "display_data"
    },
    {
     "name": "stderr",
     "output_type": "stream",
     "text": [
      "C:\\Users\\User\\anaconda3\\Lib\\site-packages\\huggingface_hub\\file_download.py:139: UserWarning: `huggingface_hub` cache-system uses symlinks by default to efficiently store duplicated files but your machine does not support them in C:\\Users\\User\\.cache\\huggingface\\hub\\models--gpt2. Caching files will still work but in a degraded version that might require more space on your disk. This warning can be disabled by setting the `HF_HUB_DISABLE_SYMLINKS_WARNING` environment variable. For more details, see https://huggingface.co/docs/huggingface_hub/how-to-cache#limitations.\n",
      "To support symlinks on Windows, you either need to activate Developer Mode or to run Python as an administrator. In order to activate developer mode, see this article: https://docs.microsoft.com/en-us/windows/apps/get-started/enable-your-device-for-development\n",
      "  warnings.warn(message)\n"
     ]
    },
    {
     "data": {
      "application/vnd.jupyter.widget-view+json": {
       "model_id": "8926e3acd4de4545932665e317951728",
       "version_major": 2,
       "version_minor": 0
      },
      "text/plain": [
       "config.json:   0%|          | 0.00/665 [00:00<?, ?B/s]"
      ]
     },
     "metadata": {},
     "output_type": "display_data"
    },
    {
     "data": {
      "application/vnd.jupyter.widget-view+json": {
       "model_id": "75d7799a948543f7be7ff8b7cc3d282a",
       "version_major": 2,
       "version_minor": 0
      },
      "text/plain": [
       "vocab.json:   0%|          | 0.00/1.04M [00:00<?, ?B/s]"
      ]
     },
     "metadata": {},
     "output_type": "display_data"
    },
    {
     "data": {
      "application/vnd.jupyter.widget-view+json": {
       "model_id": "4643b58b9f324c2781234772d71070f3",
       "version_major": 2,
       "version_minor": 0
      },
      "text/plain": [
       "merges.txt:   0%|          | 0.00/456k [00:00<?, ?B/s]"
      ]
     },
     "metadata": {},
     "output_type": "display_data"
    },
    {
     "data": {
      "application/vnd.jupyter.widget-view+json": {
       "model_id": "b9196c0aa4f54267b6eff88a4efeecc5",
       "version_major": 2,
       "version_minor": 0
      },
      "text/plain": [
       "tokenizer.json:   0%|          | 0.00/1.36M [00:00<?, ?B/s]"
      ]
     },
     "metadata": {},
     "output_type": "display_data"
    },
    {
     "name": "stdout",
     "output_type": "stream",
     "text": [
      "{'input_ids': tensor([[15496,    11,   703,   389,   345,    30]]), 'attention_mask': tensor([[1, 1, 1, 1, 1, 1]])}\n"
     ]
    }
   ],
   "source": [
    "from transformers import AutoTokenizer\n",
    "\n",
    "# Load the tokenizer for a specific model (e.g., GPT-2)\n",
    "tokenizer = AutoTokenizer.from_pretrained(\"gpt2\")\n",
    "\n",
    "# Tokenize some input text\n",
    "text = \"Hello, how are you?\"\n",
    "tokens = tokenizer(text, return_tensors='pt')\n",
    "print(tokens)"
   ]
  },
  {
   "cell_type": "markdown",
   "id": "db2473d3-8194-4c57-a5ea-635ead6ce09a",
   "metadata": {},
   "source": [
    "- input text \"Hello, how are you?\". Specifically, the output will be a dictionary containing the token IDs and attention masks in a format that PyTorch models can use.\n",
    "\n",
    "- Token IDs: A tensor containing the integer representations of the tokens from the input text.\n",
    "\n",
    "- Attention Mask: A tensor indicating which tokens should be attended to (1 for real tokens, 0 for padding).\n",
    "\n",
    "- input_ids: This is a tensor containing the numerical IDs corresponding to the tokens. For the input text, it may look like [15496, 11, 703, 389, 345, 329, 30]. Each number corresponds to a specific token in the GPT-2 vocabulary.\n",
    "\n",
    "- attention_mask: This tensor is used to indicate which tokens should be processed by the model. In this case, since there are no padding tokens, all values are 1."
   ]
  },
  {
   "cell_type": "code",
   "execution_count": 8,
   "id": "c36c987f-d98d-46d1-b921-229bd420df10",
   "metadata": {},
   "outputs": [
    {
     "name": "stderr",
     "output_type": "stream",
     "text": [
      "The attention mask and the pad token id were not set. As a consequence, you may observe unexpected behavior. Please pass your input's `attention_mask` to obtain reliable results.\n",
      "Setting `pad_token_id` to `eos_token_id`:50256 for open-end generation.\n"
     ]
    },
    {
     "name": "stdout",
     "output_type": "stream",
     "text": [
      "Once upon a time, the world was a place of great beauty and great danger. The world was a place of great danger, and the world was a place of great danger. The world was a place of great danger, and the world was a\n"
     ]
    }
   ],
   "source": [
    "from transformers import AutoModelForCausalLM\n",
    "\n",
    "# Load the pre-trained GPT-2 model\n",
    "model = AutoModelForCausalLM.from_pretrained(\"gpt2\")\n",
    "\n",
    "# Generate text\n",
    "input_ids = tokenizer.encode(\"Once upon a time\", return_tensors='pt')\n",
    "output = model.generate(input_ids, max_length=50)\n",
    "generated_text = tokenizer.decode(output[0], skip_special_tokens=True)\n",
    "\n",
    "print(generated_text)\n"
   ]
  },
  {
   "cell_type": "markdown",
   "id": "92e32ec0-9f3e-401e-a4cc-534a4f82315a",
   "metadata": {},
   "source": [
    "- When you run the provided code, it uses the GPT-2 model to generate text based on the prompt \"Once upon a time.\" Here’s a breakdown of what happens and what you can expect as output:\n",
    "\n",
    "- Steps in the Code\n",
    "Load the Model: The AutoModelForCausalLM.from_pretrained(\"gpt2\") line loads the pre-trained GPT-2 model.\n",
    "\n",
    "Tokenization: The prompt \"Once upon a time\" is tokenized into input IDs that the model can understand.\n",
    "\n",
    "- Text Generation: The model.generate() method generates text based on the input IDs. The max_length=50 argument specifies that the total length of the generated text (including the prompt) should not exceed 50 tokens.\n",
    "\n",
    "- Decoding: The output is then decoded back into human-readable text using the tokenizer.\n",
    "\n",
    "#Output Characteristics\n",
    "- Length: The length of the output will depend on the prompt and the max_length parameter. If the prompt is short and max_length is set to 50, the output will be roughly 30 to 40 tokens of generated text.\n",
    "\n",
    "- Creativity: The continuation may include imaginative scenarios, characters, or events that align with the narrative style of fairy tales or stories."
   ]
  },
  {
   "cell_type": "code",
   "execution_count": 7,
   "id": "77d69feb-d9b0-493f-b3e7-77b6ca4becf4",
   "metadata": {},
   "outputs": [
    {
     "data": {
      "application/vnd.jupyter.widget-view+json": {
       "model_id": "2d6f54cae42e4a37a13d25e75b29f63e",
       "version_major": 2,
       "version_minor": 0
      },
      "text/plain": [
       "model.safetensors:   0%|          | 0.00/548M [00:00<?, ?B/s]"
      ]
     },
     "metadata": {},
     "output_type": "display_data"
    },
    {
     "data": {
      "application/vnd.jupyter.widget-view+json": {
       "model_id": "e867aa8f028f426f9e7822063c71fb81",
       "version_major": 2,
       "version_minor": 0
      },
      "text/plain": [
       "generation_config.json:   0%|          | 0.00/124 [00:00<?, ?B/s]"
      ]
     },
     "metadata": {},
     "output_type": "display_data"
    },
    {
     "name": "stderr",
     "output_type": "stream",
     "text": [
      "The attention mask and the pad token id were not set. As a consequence, you may observe unexpected behavior. Please pass your input's `attention_mask` to obtain reliable results.\n",
      "Setting `pad_token_id` to `eos_token_id`:50256 for open-end generation.\n",
      "The attention mask is not set and cannot be inferred from input because pad token is same as eos token. As a consequence, you may observe unexpected behavior. Please pass your input's `attention_mask` to obtain reliable results.\n"
     ]
    },
    {
     "name": "stdout",
     "output_type": "stream",
     "text": [
      "Response for chunk 1:\n",
      "brief explain about generative ai brief explain about generative ai brief explain about generative ai brief explain about generative ai brief explain about generative ai brief explain about generative ai brief explain about generative ai brief explain about generative ai brief explain about generative ai brief explain about generative ai brief explain about generative ai brief explain about generative ai brief explain about generative ai brief explain about generative ai brief explain about generative ai brief explain about generative ai brief explain about generative ai brief explain about generative ai brief explain about generative ai brief explain about generative ai brief explain about generative ai brief explain about generative ai brief explain about generative ai brief explain about generative ai brief explain about generative ai brief explain about generative ai brief explain about generative ai brief explain about generative ai brief explain about generative ai brief explain about generative ai brief explain about generative ai brief explain about generative ai brief explain about generative ai brief explain about generative ai brief explain about generative ai brief explain about generative ai brief explain about generative ai brief explain about generative ai brief explain about generative ai brief explain about generative ai brief explain about generative ai brief explain about generative ai brief explain about generative ai brief explain about generative ai brief explain about generative ai brief explain about generative ai brief explain about generative ai brief explain about generative ai brief explain about generative ai brief explain about generative ai  explain about generative ai brief explain about generative ai brief explain about generative ai brief explain about generative ai brief explain about generative ai brief explain about generative ai brief explain about generative ai brief explain about generative ai brief explain about generative ai brief explain about generative ai brief explain about generative ai brief explain about generative ai brief explain about generative ai brief explain about generative ai brief explain about generative ai brief explain about generative ai brief explain about generative ai brief explain about generative ai brief explain about generative ai brief explain about generative ai brief explain about generative ai brief explain about generative ai brief explain about generative\n",
      "\n"
     ]
    }
   ],
   "source": [
    "from transformers import AutoTokenizer, AutoModelForCausalLM\n",
    "\n",
    "# Load a pre-trained model and tokenizer\n",
    "model_name = \"gpt2\"  # You can replace with any other LLM\n",
    "tokenizer = AutoTokenizer.from_pretrained(model_name)\n",
    "model = AutoModelForCausalLM.from_pretrained(model_name)\n",
    "\n",
    "def chunk_text(text, max_length=512):\n",
    "    \"\"\"Chunk text into smaller pieces.\"\"\"\n",
    "    tokens = tokenizer.encode(text, return_tensors='pt')[0]\n",
    "    chunks = []\n",
    "\n",
    "    for i in range(0, len(tokens), max_length):\n",
    "        chunk = tokens[i:i + max_length]\n",
    "        chunks.append(chunk)\n",
    "\n",
    "    return chunks\n",
    "\n",
    "def generate_responses(chunks):\n",
    "    \"\"\"Generate responses for each chunk using the LLM.\"\"\"\n",
    "    responses = []\n",
    "    for chunk in chunks:\n",
    "        input_ids = chunk.unsqueeze(0)  # Add batch dimension\n",
    "        # Increase max_length to a value greater than or equal to the longest chunk length\n",
    "        output = model.generate(input_ids, max_length=512)  # Generate response\n",
    "        responses.append(tokenizer.decode(output[0], skip_special_tokens=True))\n",
    "\n",
    "    return responses\n",
    "\n",
    "# Example long text\n",
    "long_text = \"brief explain about generative ai \" * 50  # Repeat to simulate long text\n",
    "\n",
    "# Chunk the text\n",
    "chunks = chunk_text(long_text)\n",
    "\n",
    "# Generate responses for each chunk\n",
    "responses = generate_responses(chunks)\n",
    "\n",
    "# Print the responses\n",
    "for i, response in enumerate(responses):\n",
    "    print(f\"Response for chunk {i+1}:\\n{response}\\n\")\n"
   ]
  },
  {
   "cell_type": "markdown",
   "id": "201c0cad-fc89-4c4a-beae-c96064bba71b",
   "metadata": {},
   "source": [
    "- AutoTokenizer and AutoModelForCausalLM are part of the Hugging Face transformers library, which simplifies the process of working with various pre-trained transformer models.\r\n",
    "\r\n",
    "- AutoTokenizer\r\n",
    "Purpose: AutoTokenizer is designed to automatically retrieve the appropriate tokenizer for a given model. Tokenizers convert raw text into tokens that the model can understand, and they also handle various tasks like adding special tokens, padding, and truncating.\r\n",
    "\r\n",
    "- Usage:\r\n",
    "You can load a tokenizer by specifying the model name or path.\r\n",
    "The tokenizer will be automatically configured according to the model's requirements."
   ]
  },
  {
   "cell_type": "markdown",
   "id": "af687a78-9e34-46b1-b76f-0a4972c81797",
   "metadata": {},
   "source": [
    "- Explanation of the Code\r\n",
    "\r\n",
    "- Loading the Model and Tokenizer:\r\n",
    "\r\n",
    "- The code loads a pre-trained GPT-2 model and its corresponding tokenizer. You can replace \"gpt2\" with any other compatible model.\r\n",
    "\r\n",
    "- Chunking Function:\r\n",
    "The chunk_text function takes a string of text and splits it into chunks of a specified maximum length (in tokens). It encodes the text into tokens and then slices it into manageable pieces.\r\n",
    "\r\n",
    "- Generating Responses:\r\n",
    "The generate_responses function iterates through each chunk, generates a response using the model, and decodes the output back into text.\r\n",
    "\r\n",
    "- Putting It All Together:\r\n",
    "A long text is created (you can replace this with your actual text).\r\n",
    "The text is chunked, and responses are generated for each chunk.\r\n",
    "\r\n",
    "- Output\r\n",
    "The output will show responses generated for each chunk of the input text, allowing you to process longer texts effectively without exceeding the token limit of the model.\r\n",
    "\r\n",
    "- Note\r\n",
    "When processing multiple chunks, consider how to handle overlapping content, especially if the chunks are related, to maintain context. You might want to implement strategies like including the last few tokens of the previous chunk in the next one."
   ]
  },
  {
   "cell_type": "code",
   "execution_count": null,
   "id": "e06bcc94-0b41-4d2e-abb5-519853fead54",
   "metadata": {},
   "outputs": [],
   "source": []
  },
  {
   "cell_type": "code",
   "execution_count": null,
   "id": "df498999-3952-4725-8bc7-cc27922cf834",
   "metadata": {},
   "outputs": [],
   "source": []
  }
 ],
 "metadata": {
  "kernelspec": {
   "display_name": "Python 3 (ipykernel)",
   "language": "python",
   "name": "python3"
  },
  "language_info": {
   "codemirror_mode": {
    "name": "ipython",
    "version": 3
   },
   "file_extension": ".py",
   "mimetype": "text/x-python",
   "name": "python",
   "nbconvert_exporter": "python",
   "pygments_lexer": "ipython3",
   "version": "3.12.3"
  }
 },
 "nbformat": 4,
 "nbformat_minor": 5
}
