{
 "cells": [
  {
   "cell_type": "code",
   "execution_count": 1,
   "id": "64ba89e3-ea85-4b88-950f-a79a68cfa685",
   "metadata": {},
   "outputs": [],
   "source": [
    "import nltk"
   ]
  },
  {
   "cell_type": "code",
   "execution_count": 3,
   "id": "17187b45-be60-46c5-b55f-79a95f685e6f",
   "metadata": {},
   "outputs": [],
   "source": [
    "from nltk.stem import PorterStemmer"
   ]
  },
  {
   "cell_type": "code",
   "execution_count": 5,
   "id": "36b447da-7b1e-4acd-b36f-c2da556cf487",
   "metadata": {},
   "outputs": [],
   "source": [
    "#using porter stemmer you can always stem the word called from PorterStemmer \n",
    "#poterstemmer librarty will help you to find the root word "
   ]
  },
  {
   "cell_type": "code",
   "execution_count": 7,
   "id": "286dedc4-b45e-493e-bef4-f564f440149c",
   "metadata": {},
   "outputs": [],
   "source": [
    "from nltk.corpus import stopwords"
   ]
  },
  {
   "cell_type": "code",
   "execution_count": 9,
   "id": "94df723b-ad8b-44e2-aeda-d71f254d059c",
   "metadata": {},
   "outputs": [],
   "source": [
    "#STOPWORDS – stopwords are present inside the nltk.corpus \n",
    "#why we use stopwords hear becuase if you see below para then we do see some word called of, the, and , our, of , them \n",
    "#this kind of words are repeted again and again & these words are no such a meaningfull information & there is no meaning when we assign to the computer or machine\n",
    "#stopwords help us to remove this kind of words in the paragraph for better text preprocessing\n",
    "#most of the senario we do apply stopwords"
   ]
  },
  {
   "cell_type": "code",
   "execution_count": 11,
   "id": "53ec5007-3ee3-46d8-a8c1-f8d25134be51",
   "metadata": {},
   "outputs": [],
   "source": [
    "paragraph = \"\"\"I have three visions for India. In 3000 years of our history, people from all over \n",
    "               the world have come and invaded us, captured our lands, conquered our minds. \n",
    "               From Alexander onwards, the Greeks, the Turks, the Moguls, the Portuguese, the British,\n",
    "               the French, the Dutch, all of them came and looted us, took over what was ours. \n",
    "               Yet we have not done this to any other nation. We have not conquered anyone. \n",
    "               We have not grabbed their land, their culture, \n",
    "               their history and tried to enforce our way of life on them. \n",
    "               Why? Because we respect the freedom of others.That is why my \n",
    "               first vision is that of freedom. I believe that India got its first vision of \n",
    "               this in 1857, when we started the War of Independence. It is this freedom that\n",
    "               we must protect and nurture and build on. If we are not free, no one will respect us.\n",
    "               My second vision for India’s development. For fifty years we have been a developing nation.\n",
    "               It is time we see ourselves as a developed nation. We are among the top 5 nations of the world\n",
    "               in terms of GDP. We have a 10 percent growth rate in most areas. Our poverty levels are falling.\n",
    "               Our achievements are being globally recognised today. Yet we lack the self-confidence to\n",
    "               see ourselves as a developed nation, self-reliant and self-assured. Isn’t this incorrect?\n",
    "               I have a third vision. India must stand up to the world. Because I believe that unless India \n",
    "               stands up to the world, no one will respect us. Only strength respects strength. We must be \n",
    "               strong not only as a military power but also as an economic power. Both must go hand-in-hand. \n",
    "               My good fortune was to have worked with three great minds. Dr. Vikram Sarabhai of the Dept. of \n",
    "               space, Professor Satish Dhawan, who succeeded him and Dr. Brahm Prakash, father of nuclear material.\n",
    "               I was lucky to have worked with all three of them closely and consider this the great opportunity of my life. \n",
    "               I see four milestones in my career\"\"\"\n",
    "                          "
   ]
  },
  {
   "cell_type": "code",
   "execution_count": 13,
   "id": "7ea97321-aff8-4a47-9ff3-1ca8069a82b2",
   "metadata": {},
   "outputs": [],
   "source": [
    "sentences = nltk.sent_tokenize(paragraph)\n",
    "stemmer = PorterStemmer()"
   ]
  },
  {
   "cell_type": "code",
   "execution_count": 15,
   "id": "41495b24-0367-4533-b9eb-f3ec3e58ddcf",
   "metadata": {},
   "outputs": [],
   "source": [
    "#import stopwords\n",
    "# I want to remove all the stopwords from my senterences \n",
    "# if you check the stopwords.words('english') you get a list of word which is not at all value to the paragraph\n",
    "# you do get stopwords in many language. \n",
    "# after removing the stopwords i am going to stem the words by using portstemmer\n",
    "\n",
    "# using for loop for all of sentences & using word_tokenize will convert all sentences to words\n",
    "# basically i am writhing for word in words and i am taking from unique word from stopword.english\n",
    "# Stemming"
   ]
  },
  {
   "cell_type": "code",
   "execution_count": 17,
   "id": "e4209e8c-e73d-44b7-bfb2-5fee4dd707bd",
   "metadata": {},
   "outputs": [],
   "source": [
    "for i in range(len(sentences)):\n",
    "    words = nltk.word_tokenize(sentences[i])\n",
    "    words = [stemmer.stem(word) for word in words if word not in set(stopwords.words('english'))]\n",
    "    sentences[i] = ' '.join(words)   \n",
    "    "
   ]
  },
  {
   "cell_type": "code",
   "execution_count": null,
   "id": "8fe87ab5-a99f-4980-9f61-e1410310751b",
   "metadata": {},
   "outputs": [],
   "source": []
  }
 ],
 "metadata": {
  "kernelspec": {
   "display_name": "Python 3 (ipykernel)",
   "language": "python",
   "name": "python3"
  },
  "language_info": {
   "codemirror_mode": {
    "name": "ipython",
    "version": 3
   },
   "file_extension": ".py",
   "mimetype": "text/x-python",
   "name": "python",
   "nbconvert_exporter": "python",
   "pygments_lexer": "ipython3",
   "version": "3.12.3"
  }
 },
 "nbformat": 4,
 "nbformat_minor": 5
}
