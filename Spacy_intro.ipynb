{
  "nbformat": 4,
  "nbformat_minor": 0,
  "metadata": {
    "colab": {
      "provenance": []
    },
    "kernelspec": {
      "name": "python3",
      "display_name": "Python 3"
    },
    "language_info": {
      "name": "python"
    }
  },
  "cells": [
    {
      "cell_type": "code",
      "execution_count": 1,
      "metadata": {
        "colab": {
          "base_uri": "https://localhost:8080/"
        },
        "id": "zqKyr61S7wf-",
        "outputId": "ed017fa4-5227-40d5-8446-75ed05a616a6"
      },
      "outputs": [
        {
          "output_type": "stream",
          "name": "stdout",
          "text": [
            "Requirement already satisfied: spacy in /usr/local/lib/python3.10/dist-packages (3.7.5)\n",
            "Requirement already satisfied: spacy-legacy<3.1.0,>=3.0.11 in /usr/local/lib/python3.10/dist-packages (from spacy) (3.0.12)\n",
            "Requirement already satisfied: spacy-loggers<2.0.0,>=1.0.0 in /usr/local/lib/python3.10/dist-packages (from spacy) (1.0.5)\n",
            "Requirement already satisfied: murmurhash<1.1.0,>=0.28.0 in /usr/local/lib/python3.10/dist-packages (from spacy) (1.0.11)\n",
            "Requirement already satisfied: cymem<2.1.0,>=2.0.2 in /usr/local/lib/python3.10/dist-packages (from spacy) (2.0.10)\n",
            "Requirement already satisfied: preshed<3.1.0,>=3.0.2 in /usr/local/lib/python3.10/dist-packages (from spacy) (3.0.9)\n",
            "Requirement already satisfied: thinc<8.3.0,>=8.2.2 in /usr/local/lib/python3.10/dist-packages (from spacy) (8.2.5)\n",
            "Requirement already satisfied: wasabi<1.2.0,>=0.9.1 in /usr/local/lib/python3.10/dist-packages (from spacy) (1.1.3)\n",
            "Requirement already satisfied: srsly<3.0.0,>=2.4.3 in /usr/local/lib/python3.10/dist-packages (from spacy) (2.5.0)\n",
            "Requirement already satisfied: catalogue<2.1.0,>=2.0.6 in /usr/local/lib/python3.10/dist-packages (from spacy) (2.0.10)\n",
            "Requirement already satisfied: weasel<0.5.0,>=0.1.0 in /usr/local/lib/python3.10/dist-packages (from spacy) (0.4.1)\n",
            "Requirement already satisfied: typer<1.0.0,>=0.3.0 in /usr/local/lib/python3.10/dist-packages (from spacy) (0.15.1)\n",
            "Requirement already satisfied: tqdm<5.0.0,>=4.38.0 in /usr/local/lib/python3.10/dist-packages (from spacy) (4.67.1)\n",
            "Requirement already satisfied: requests<3.0.0,>=2.13.0 in /usr/local/lib/python3.10/dist-packages (from spacy) (2.32.3)\n",
            "Requirement already satisfied: pydantic!=1.8,!=1.8.1,<3.0.0,>=1.7.4 in /usr/local/lib/python3.10/dist-packages (from spacy) (2.10.4)\n",
            "Requirement already satisfied: jinja2 in /usr/local/lib/python3.10/dist-packages (from spacy) (3.1.5)\n",
            "Requirement already satisfied: setuptools in /usr/local/lib/python3.10/dist-packages (from spacy) (75.1.0)\n",
            "Requirement already satisfied: packaging>=20.0 in /usr/local/lib/python3.10/dist-packages (from spacy) (24.2)\n",
            "Requirement already satisfied: langcodes<4.0.0,>=3.2.0 in /usr/local/lib/python3.10/dist-packages (from spacy) (3.5.0)\n",
            "Requirement already satisfied: numpy>=1.19.0 in /usr/local/lib/python3.10/dist-packages (from spacy) (1.26.4)\n",
            "Requirement already satisfied: language-data>=1.2 in /usr/local/lib/python3.10/dist-packages (from langcodes<4.0.0,>=3.2.0->spacy) (1.3.0)\n",
            "Requirement already satisfied: annotated-types>=0.6.0 in /usr/local/lib/python3.10/dist-packages (from pydantic!=1.8,!=1.8.1,<3.0.0,>=1.7.4->spacy) (0.7.0)\n",
            "Requirement already satisfied: pydantic-core==2.27.2 in /usr/local/lib/python3.10/dist-packages (from pydantic!=1.8,!=1.8.1,<3.0.0,>=1.7.4->spacy) (2.27.2)\n",
            "Requirement already satisfied: typing-extensions>=4.12.2 in /usr/local/lib/python3.10/dist-packages (from pydantic!=1.8,!=1.8.1,<3.0.0,>=1.7.4->spacy) (4.12.2)\n",
            "Requirement already satisfied: charset-normalizer<4,>=2 in /usr/local/lib/python3.10/dist-packages (from requests<3.0.0,>=2.13.0->spacy) (3.4.1)\n",
            "Requirement already satisfied: idna<4,>=2.5 in /usr/local/lib/python3.10/dist-packages (from requests<3.0.0,>=2.13.0->spacy) (3.10)\n",
            "Requirement already satisfied: urllib3<3,>=1.21.1 in /usr/local/lib/python3.10/dist-packages (from requests<3.0.0,>=2.13.0->spacy) (2.3.0)\n",
            "Requirement already satisfied: certifi>=2017.4.17 in /usr/local/lib/python3.10/dist-packages (from requests<3.0.0,>=2.13.0->spacy) (2024.12.14)\n",
            "Requirement already satisfied: blis<0.8.0,>=0.7.8 in /usr/local/lib/python3.10/dist-packages (from thinc<8.3.0,>=8.2.2->spacy) (0.7.11)\n",
            "Requirement already satisfied: confection<1.0.0,>=0.0.1 in /usr/local/lib/python3.10/dist-packages (from thinc<8.3.0,>=8.2.2->spacy) (0.1.5)\n",
            "Requirement already satisfied: click>=8.0.0 in /usr/local/lib/python3.10/dist-packages (from typer<1.0.0,>=0.3.0->spacy) (8.1.8)\n",
            "Requirement already satisfied: shellingham>=1.3.0 in /usr/local/lib/python3.10/dist-packages (from typer<1.0.0,>=0.3.0->spacy) (1.5.4)\n",
            "Requirement already satisfied: rich>=10.11.0 in /usr/local/lib/python3.10/dist-packages (from typer<1.0.0,>=0.3.0->spacy) (13.9.4)\n",
            "Requirement already satisfied: cloudpathlib<1.0.0,>=0.7.0 in /usr/local/lib/python3.10/dist-packages (from weasel<0.5.0,>=0.1.0->spacy) (0.20.0)\n",
            "Requirement already satisfied: smart-open<8.0.0,>=5.2.1 in /usr/local/lib/python3.10/dist-packages (from weasel<0.5.0,>=0.1.0->spacy) (7.1.0)\n",
            "Requirement already satisfied: MarkupSafe>=2.0 in /usr/local/lib/python3.10/dist-packages (from jinja2->spacy) (3.0.2)\n",
            "Requirement already satisfied: marisa-trie>=1.1.0 in /usr/local/lib/python3.10/dist-packages (from language-data>=1.2->langcodes<4.0.0,>=3.2.0->spacy) (1.2.1)\n",
            "Requirement already satisfied: markdown-it-py>=2.2.0 in /usr/local/lib/python3.10/dist-packages (from rich>=10.11.0->typer<1.0.0,>=0.3.0->spacy) (3.0.0)\n",
            "Requirement already satisfied: pygments<3.0.0,>=2.13.0 in /usr/local/lib/python3.10/dist-packages (from rich>=10.11.0->typer<1.0.0,>=0.3.0->spacy) (2.18.0)\n",
            "Requirement already satisfied: wrapt in /usr/local/lib/python3.10/dist-packages (from smart-open<8.0.0,>=5.2.1->weasel<0.5.0,>=0.1.0->spacy) (1.17.0)\n",
            "Requirement already satisfied: mdurl~=0.1 in /usr/local/lib/python3.10/dist-packages (from markdown-it-py>=2.2.0->rich>=10.11.0->typer<1.0.0,>=0.3.0->spacy) (0.1.2)\n"
          ]
        }
      ],
      "source": [
        "!pip install spacy #(we have 3 type of model is available called small,medium and large)"
      ]
    },
    {
      "cell_type": "code",
      "source": [
        "!python -m spacy download en_core_web_sm"
      ],
      "metadata": {
        "colab": {
          "base_uri": "https://localhost:8080/"
        },
        "id": "J9KIJsYd8ZwB",
        "outputId": "133608dd-6baf-494e-dc91-e967e7b0d74d"
      },
      "execution_count": 2,
      "outputs": [
        {
          "output_type": "stream",
          "name": "stdout",
          "text": [
            "Collecting en-core-web-sm==3.7.1\n",
            "  Downloading https://github.com/explosion/spacy-models/releases/download/en_core_web_sm-3.7.1/en_core_web_sm-3.7.1-py3-none-any.whl (12.8 MB)\n",
            "\u001b[2K     \u001b[90m━━━━━━━━━━━━━━━━━━━━━━━━━━━━━━━━━━━━━━━━\u001b[0m \u001b[32m12.8/12.8 MB\u001b[0m \u001b[31m82.2 MB/s\u001b[0m eta \u001b[36m0:00:00\u001b[0m\n",
            "\u001b[?25hRequirement already satisfied: spacy<3.8.0,>=3.7.2 in /usr/local/lib/python3.10/dist-packages (from en-core-web-sm==3.7.1) (3.7.5)\n",
            "Requirement already satisfied: spacy-legacy<3.1.0,>=3.0.11 in /usr/local/lib/python3.10/dist-packages (from spacy<3.8.0,>=3.7.2->en-core-web-sm==3.7.1) (3.0.12)\n",
            "Requirement already satisfied: spacy-loggers<2.0.0,>=1.0.0 in /usr/local/lib/python3.10/dist-packages (from spacy<3.8.0,>=3.7.2->en-core-web-sm==3.7.1) (1.0.5)\n",
            "Requirement already satisfied: murmurhash<1.1.0,>=0.28.0 in /usr/local/lib/python3.10/dist-packages (from spacy<3.8.0,>=3.7.2->en-core-web-sm==3.7.1) (1.0.11)\n",
            "Requirement already satisfied: cymem<2.1.0,>=2.0.2 in /usr/local/lib/python3.10/dist-packages (from spacy<3.8.0,>=3.7.2->en-core-web-sm==3.7.1) (2.0.10)\n",
            "Requirement already satisfied: preshed<3.1.0,>=3.0.2 in /usr/local/lib/python3.10/dist-packages (from spacy<3.8.0,>=3.7.2->en-core-web-sm==3.7.1) (3.0.9)\n",
            "Requirement already satisfied: thinc<8.3.0,>=8.2.2 in /usr/local/lib/python3.10/dist-packages (from spacy<3.8.0,>=3.7.2->en-core-web-sm==3.7.1) (8.2.5)\n",
            "Requirement already satisfied: wasabi<1.2.0,>=0.9.1 in /usr/local/lib/python3.10/dist-packages (from spacy<3.8.0,>=3.7.2->en-core-web-sm==3.7.1) (1.1.3)\n",
            "Requirement already satisfied: srsly<3.0.0,>=2.4.3 in /usr/local/lib/python3.10/dist-packages (from spacy<3.8.0,>=3.7.2->en-core-web-sm==3.7.1) (2.5.0)\n",
            "Requirement already satisfied: catalogue<2.1.0,>=2.0.6 in /usr/local/lib/python3.10/dist-packages (from spacy<3.8.0,>=3.7.2->en-core-web-sm==3.7.1) (2.0.10)\n",
            "Requirement already satisfied: weasel<0.5.0,>=0.1.0 in /usr/local/lib/python3.10/dist-packages (from spacy<3.8.0,>=3.7.2->en-core-web-sm==3.7.1) (0.4.1)\n",
            "Requirement already satisfied: typer<1.0.0,>=0.3.0 in /usr/local/lib/python3.10/dist-packages (from spacy<3.8.0,>=3.7.2->en-core-web-sm==3.7.1) (0.15.1)\n",
            "Requirement already satisfied: tqdm<5.0.0,>=4.38.0 in /usr/local/lib/python3.10/dist-packages (from spacy<3.8.0,>=3.7.2->en-core-web-sm==3.7.1) (4.67.1)\n",
            "Requirement already satisfied: requests<3.0.0,>=2.13.0 in /usr/local/lib/python3.10/dist-packages (from spacy<3.8.0,>=3.7.2->en-core-web-sm==3.7.1) (2.32.3)\n",
            "Requirement already satisfied: pydantic!=1.8,!=1.8.1,<3.0.0,>=1.7.4 in /usr/local/lib/python3.10/dist-packages (from spacy<3.8.0,>=3.7.2->en-core-web-sm==3.7.1) (2.10.4)\n",
            "Requirement already satisfied: jinja2 in /usr/local/lib/python3.10/dist-packages (from spacy<3.8.0,>=3.7.2->en-core-web-sm==3.7.1) (3.1.5)\n",
            "Requirement already satisfied: setuptools in /usr/local/lib/python3.10/dist-packages (from spacy<3.8.0,>=3.7.2->en-core-web-sm==3.7.1) (75.1.0)\n",
            "Requirement already satisfied: packaging>=20.0 in /usr/local/lib/python3.10/dist-packages (from spacy<3.8.0,>=3.7.2->en-core-web-sm==3.7.1) (24.2)\n",
            "Requirement already satisfied: langcodes<4.0.0,>=3.2.0 in /usr/local/lib/python3.10/dist-packages (from spacy<3.8.0,>=3.7.2->en-core-web-sm==3.7.1) (3.5.0)\n",
            "Requirement already satisfied: numpy>=1.19.0 in /usr/local/lib/python3.10/dist-packages (from spacy<3.8.0,>=3.7.2->en-core-web-sm==3.7.1) (1.26.4)\n",
            "Requirement already satisfied: language-data>=1.2 in /usr/local/lib/python3.10/dist-packages (from langcodes<4.0.0,>=3.2.0->spacy<3.8.0,>=3.7.2->en-core-web-sm==3.7.1) (1.3.0)\n",
            "Requirement already satisfied: annotated-types>=0.6.0 in /usr/local/lib/python3.10/dist-packages (from pydantic!=1.8,!=1.8.1,<3.0.0,>=1.7.4->spacy<3.8.0,>=3.7.2->en-core-web-sm==3.7.1) (0.7.0)\n",
            "Requirement already satisfied: pydantic-core==2.27.2 in /usr/local/lib/python3.10/dist-packages (from pydantic!=1.8,!=1.8.1,<3.0.0,>=1.7.4->spacy<3.8.0,>=3.7.2->en-core-web-sm==3.7.1) (2.27.2)\n",
            "Requirement already satisfied: typing-extensions>=4.12.2 in /usr/local/lib/python3.10/dist-packages (from pydantic!=1.8,!=1.8.1,<3.0.0,>=1.7.4->spacy<3.8.0,>=3.7.2->en-core-web-sm==3.7.1) (4.12.2)\n",
            "Requirement already satisfied: charset-normalizer<4,>=2 in /usr/local/lib/python3.10/dist-packages (from requests<3.0.0,>=2.13.0->spacy<3.8.0,>=3.7.2->en-core-web-sm==3.7.1) (3.4.1)\n",
            "Requirement already satisfied: idna<4,>=2.5 in /usr/local/lib/python3.10/dist-packages (from requests<3.0.0,>=2.13.0->spacy<3.8.0,>=3.7.2->en-core-web-sm==3.7.1) (3.10)\n",
            "Requirement already satisfied: urllib3<3,>=1.21.1 in /usr/local/lib/python3.10/dist-packages (from requests<3.0.0,>=2.13.0->spacy<3.8.0,>=3.7.2->en-core-web-sm==3.7.1) (2.3.0)\n",
            "Requirement already satisfied: certifi>=2017.4.17 in /usr/local/lib/python3.10/dist-packages (from requests<3.0.0,>=2.13.0->spacy<3.8.0,>=3.7.2->en-core-web-sm==3.7.1) (2024.12.14)\n",
            "Requirement already satisfied: blis<0.8.0,>=0.7.8 in /usr/local/lib/python3.10/dist-packages (from thinc<8.3.0,>=8.2.2->spacy<3.8.0,>=3.7.2->en-core-web-sm==3.7.1) (0.7.11)\n",
            "Requirement already satisfied: confection<1.0.0,>=0.0.1 in /usr/local/lib/python3.10/dist-packages (from thinc<8.3.0,>=8.2.2->spacy<3.8.0,>=3.7.2->en-core-web-sm==3.7.1) (0.1.5)\n",
            "Requirement already satisfied: click>=8.0.0 in /usr/local/lib/python3.10/dist-packages (from typer<1.0.0,>=0.3.0->spacy<3.8.0,>=3.7.2->en-core-web-sm==3.7.1) (8.1.8)\n",
            "Requirement already satisfied: shellingham>=1.3.0 in /usr/local/lib/python3.10/dist-packages (from typer<1.0.0,>=0.3.0->spacy<3.8.0,>=3.7.2->en-core-web-sm==3.7.1) (1.5.4)\n",
            "Requirement already satisfied: rich>=10.11.0 in /usr/local/lib/python3.10/dist-packages (from typer<1.0.0,>=0.3.0->spacy<3.8.0,>=3.7.2->en-core-web-sm==3.7.1) (13.9.4)\n",
            "Requirement already satisfied: cloudpathlib<1.0.0,>=0.7.0 in /usr/local/lib/python3.10/dist-packages (from weasel<0.5.0,>=0.1.0->spacy<3.8.0,>=3.7.2->en-core-web-sm==3.7.1) (0.20.0)\n",
            "Requirement already satisfied: smart-open<8.0.0,>=5.2.1 in /usr/local/lib/python3.10/dist-packages (from weasel<0.5.0,>=0.1.0->spacy<3.8.0,>=3.7.2->en-core-web-sm==3.7.1) (7.1.0)\n",
            "Requirement already satisfied: MarkupSafe>=2.0 in /usr/local/lib/python3.10/dist-packages (from jinja2->spacy<3.8.0,>=3.7.2->en-core-web-sm==3.7.1) (3.0.2)\n",
            "Requirement already satisfied: marisa-trie>=1.1.0 in /usr/local/lib/python3.10/dist-packages (from language-data>=1.2->langcodes<4.0.0,>=3.2.0->spacy<3.8.0,>=3.7.2->en-core-web-sm==3.7.1) (1.2.1)\n",
            "Requirement already satisfied: markdown-it-py>=2.2.0 in /usr/local/lib/python3.10/dist-packages (from rich>=10.11.0->typer<1.0.0,>=0.3.0->spacy<3.8.0,>=3.7.2->en-core-web-sm==3.7.1) (3.0.0)\n",
            "Requirement already satisfied: pygments<3.0.0,>=2.13.0 in /usr/local/lib/python3.10/dist-packages (from rich>=10.11.0->typer<1.0.0,>=0.3.0->spacy<3.8.0,>=3.7.2->en-core-web-sm==3.7.1) (2.18.0)\n",
            "Requirement already satisfied: wrapt in /usr/local/lib/python3.10/dist-packages (from smart-open<8.0.0,>=5.2.1->weasel<0.5.0,>=0.1.0->spacy<3.8.0,>=3.7.2->en-core-web-sm==3.7.1) (1.17.0)\n",
            "Requirement already satisfied: mdurl~=0.1 in /usr/local/lib/python3.10/dist-packages (from markdown-it-py>=2.2.0->rich>=10.11.0->typer<1.0.0,>=0.3.0->spacy<3.8.0,>=3.7.2->en-core-web-sm==3.7.1) (0.1.2)\n",
            "\u001b[38;5;2m✔ Download and installation successful\u001b[0m\n",
            "You can now load the package via spacy.load('en_core_web_sm')\n",
            "\u001b[38;5;3m⚠ Restart to reload dependencies\u001b[0m\n",
            "If you are in a Jupyter or Colab notebook, you may need to restart Python in\n",
            "order to load all the package's dependencies. You can do this by selecting the\n",
            "'Restart kernel' or 'Restart runtime' option.\n"
          ]
        }
      ]
    },
    {
      "cell_type": "code",
      "source": [
        "import spacy\n",
        "nlp = spacy.load(\"en_core_web_sm\")\n",
        "doc = nlp(\"data science and ai has greate career ahead\")"
      ],
      "metadata": {
        "id": "pMD6dNyi8Zyg"
      },
      "execution_count": 3,
      "outputs": []
    },
    {
      "cell_type": "code",
      "source": [
        "doc"
      ],
      "metadata": {
        "colab": {
          "base_uri": "https://localhost:8080/"
        },
        "id": "0nqAU6b-8Z1x",
        "outputId": "14b6e54d-c600-4b1d-c09c-aefcbf163bbd"
      },
      "execution_count": 4,
      "outputs": [
        {
          "output_type": "execute_result",
          "data": {
            "text/plain": [
              "data science and ai has greate career ahead"
            ]
          },
          "metadata": {},
          "execution_count": 4
        }
      ]
    },
    {
      "cell_type": "code",
      "source": [
        "for token in doc:\n",
        "    print(token.text)"
      ],
      "metadata": {
        "colab": {
          "base_uri": "https://localhost:8080/"
        },
        "id": "qjZn78EE8Z4h",
        "outputId": "1b80ace4-94d3-4297-a51b-8d2c60b4ff13"
      },
      "execution_count": 5,
      "outputs": [
        {
          "output_type": "stream",
          "name": "stdout",
          "text": [
            "data\n",
            "science\n",
            "and\n",
            "ai\n",
            "has\n",
            "greate\n",
            "career\n",
            "ahead\n"
          ]
        }
      ]
    },
    {
      "cell_type": "code",
      "source": [
        "import spacy\n",
        "\n",
        "nlp = spacy.load(\"en_core_web_sm\")\n",
        "doc = nlp(\"Apple is looking at buying U.K. startup for $1 billion\")\n",
        "\n",
        "for token in doc:\n",
        "    print(token.text, token.lemma_, token.pos_, token.tag_, token.dep_,\n",
        "            token.shape_, token.is_alpha, token.is_stop)"
      ],
      "metadata": {
        "colab": {
          "base_uri": "https://localhost:8080/"
        },
        "id": "x_lBAdAF8Z7Y",
        "outputId": "b22bb478-8f76-4e57-c5f5-a4cb1018e647"
      },
      "execution_count": 6,
      "outputs": [
        {
          "output_type": "stream",
          "name": "stdout",
          "text": [
            "Apple Apple PROPN NNP nsubj Xxxxx True False\n",
            "is be AUX VBZ aux xx True True\n",
            "looking look VERB VBG ROOT xxxx True False\n",
            "at at ADP IN prep xx True True\n",
            "buying buy VERB VBG pcomp xxxx True False\n",
            "U.K. U.K. PROPN NNP dobj X.X. False False\n",
            "startup startup NOUN NN dep xxxx True False\n",
            "for for ADP IN prep xxx True True\n",
            "$ $ SYM $ quantmod $ False False\n",
            "1 1 NUM CD compound d False False\n",
            "billion billion NUM CD pobj xxxx True False\n"
          ]
        }
      ]
    },
    {
      "cell_type": "code",
      "source": [
        "for token in doc:\n",
        "    print(token.pos_)"
      ],
      "metadata": {
        "colab": {
          "base_uri": "https://localhost:8080/"
        },
        "id": "Syv4oezd8Z9c",
        "outputId": "f7d023c8-2e75-4465-f3a7-dd3ed76aa5a8"
      },
      "execution_count": 7,
      "outputs": [
        {
          "output_type": "stream",
          "name": "stdout",
          "text": [
            "PROPN\n",
            "AUX\n",
            "VERB\n",
            "ADP\n",
            "VERB\n",
            "PROPN\n",
            "NOUN\n",
            "ADP\n",
            "SYM\n",
            "NUM\n",
            "NUM\n"
          ]
        }
      ]
    },
    {
      "cell_type": "code",
      "source": [
        "for token in doc:\n",
        "    print(token.text, token.pos_)"
      ],
      "metadata": {
        "colab": {
          "base_uri": "https://localhost:8080/"
        },
        "id": "0AU7cJI28aBW",
        "outputId": "1489c944-3d57-4fc8-f3c8-09d68f4267d5"
      },
      "execution_count": 8,
      "outputs": [
        {
          "output_type": "stream",
          "name": "stdout",
          "text": [
            "Apple PROPN\n",
            "is AUX\n",
            "looking VERB\n",
            "at ADP\n",
            "buying VERB\n",
            "U.K. PROPN\n",
            "startup NOUN\n",
            "for ADP\n",
            "$ SYM\n",
            "1 NUM\n",
            "billion NUM\n"
          ]
        }
      ]
    },
    {
      "cell_type": "code",
      "source": [
        "for token in doc:\n",
        "    print(token.text, token.pos_, token.lemma_)"
      ],
      "metadata": {
        "colab": {
          "base_uri": "https://localhost:8080/"
        },
        "id": "nCL5LWW88aDV",
        "outputId": "be286d7e-f01b-4e8a-9d2a-8a801561aed1"
      },
      "execution_count": 9,
      "outputs": [
        {
          "output_type": "stream",
          "name": "stdout",
          "text": [
            "Apple PROPN Apple\n",
            "is AUX be\n",
            "looking VERB look\n",
            "at ADP at\n",
            "buying VERB buy\n",
            "U.K. PROPN U.K.\n",
            "startup NOUN startup\n",
            "for ADP for\n",
            "$ SYM $\n",
            "1 NUM 1\n",
            "billion NUM billion\n"
          ]
        }
      ]
    },
    {
      "cell_type": "code",
      "source": [
        "text = \"\"\"There are broadly two types of extractive summarization tasks depending on what the summarization program focuses on. The first is generic summarization, which focuses on obtaining a generic summary or abstract of the collection (whether documents, or sets of images, or videos, news stories etc.). The second is query relevant summarization, sometimes called query-based summarization, which summarizes objects specific to a query. Summarization systems are able to create both query relevant text summaries and generic machine-generated summaries depending on what the user needs.\n",
        "An example of a summarization problem is document summarization, which attempts to automatically produce an abstract from a given document. Sometimes one might be interested in generating a summary from a single source document, while others can use multiple source documents (for example, a cluster of articles on the same topic). This problem is called multi-document summarization. A related application is summarizing news articles. Imagine a system, which automatically pulls together news articles on a given topic (from the web), and concisely represents the latest news as a summary.\n",
        "Image collection summarization is another application example of automatic summarization. It consists in selecting a representative set of images from a larger set of images.[4] A summary in this context is useful to show the most representative images of results in an image collection exploration system. Video summarization is a related domain, where the system automatically creates a trailer of a long video. This also has applications in consumer or personal videos, where one might want to skip the boring or repetitive actions. Similarly, in surveillance videos, one would want to extract important and suspicious activity, while ignoring all the boring and redundant frames captured \"\"\""
      ],
      "metadata": {
        "id": "oahKjPpZ8aHI"
      },
      "execution_count": 10,
      "outputs": []
    },
    {
      "cell_type": "code",
      "source": [
        "text"
      ],
      "metadata": {
        "colab": {
          "base_uri": "https://localhost:8080/",
          "height": 244
        },
        "id": "s4s_X1qh9A30",
        "outputId": "d9e78fe4-fa10-4ec7-ad6b-f6431e6b8c22"
      },
      "execution_count": 11,
      "outputs": [
        {
          "output_type": "execute_result",
          "data": {
            "text/plain": [
              "'There are broadly two types of extractive summarization tasks depending on what the summarization program focuses on. The first is generic summarization, which focuses on obtaining a generic summary or abstract of the collection (whether documents, or sets of images, or videos, news stories etc.). The second is query relevant summarization, sometimes called query-based summarization, which summarizes objects specific to a query. Summarization systems are able to create both query relevant text summaries and generic machine-generated summaries depending on what the user needs.\\nAn example of a summarization problem is document summarization, which attempts to automatically produce an abstract from a given document. Sometimes one might be interested in generating a summary from a single source document, while others can use multiple source documents (for example, a cluster of articles on the same topic). This problem is called multi-document summarization. A related application is summarizing news articles. Imagine a system, which automatically pulls together news articles on a given topic (from the web), and concisely represents the latest news as a summary.\\nImage collection summarization is another application example of automatic summarization. It consists in selecting a representative set of images from a larger set of images.[4] A summary in this context is useful to show the most representative images of results in an image collection exploration system. Video summarization is a related domain, where the system automatically creates a trailer of a long video. This also has applications in consumer or personal videos, where one might want to skip the boring or repetitive actions. Similarly, in surveillance videos, one would want to extract important and suspicious activity, while ignoring all the boring and redundant frames captured '"
            ],
            "application/vnd.google.colaboratory.intrinsic+json": {
              "type": "string"
            }
          },
          "metadata": {},
          "execution_count": 11
        }
      ]
    },
    {
      "cell_type": "code",
      "source": [
        "import spacy\n",
        "from spacy.lang.en.stop_words import STOP_WORDS\n",
        "from string import punctuation"
      ],
      "metadata": {
        "id": "QbbYsw4H9A57"
      },
      "execution_count": 12,
      "outputs": []
    },
    {
      "cell_type": "code",
      "source": [
        "stopwords = list(STOP_WORDS)\n",
        "stopwords"
      ],
      "metadata": {
        "colab": {
          "base_uri": "https://localhost:8080/"
        },
        "id": "_J2xplD_9A91",
        "outputId": "4221b3b4-16f2-4d2c-b7de-67f36ca0e2de"
      },
      "execution_count": 13,
      "outputs": [
        {
          "output_type": "execute_result",
          "data": {
            "text/plain": [
              "['together',\n",
              " 'which',\n",
              " 'across',\n",
              " 'somewhere',\n",
              " 'else',\n",
              " 'his',\n",
              " 'various',\n",
              " 'being',\n",
              " 'rather',\n",
              " 'fifteen',\n",
              " 'around',\n",
              " 'will',\n",
              " 'n’t',\n",
              " 'yours',\n",
              " 'towards',\n",
              " 'within',\n",
              " 'what',\n",
              " 'either',\n",
              " 'quite',\n",
              " 'latterly',\n",
              " 'fifty',\n",
              " 'in',\n",
              " 'since',\n",
              " 'sometime',\n",
              " 'all',\n",
              " 'or',\n",
              " 'front',\n",
              " 'again',\n",
              " 'former',\n",
              " 'might',\n",
              " 'and',\n",
              " 'once',\n",
              " 'have',\n",
              " 'has',\n",
              " 'back',\n",
              " 'itself',\n",
              " 'both',\n",
              " 'that',\n",
              " 'along',\n",
              " 'any',\n",
              " 'because',\n",
              " 'perhaps',\n",
              " 'twenty',\n",
              " 'to',\n",
              " 'had',\n",
              " 'beyond',\n",
              " 'mine',\n",
              " 'most',\n",
              " 'none',\n",
              " 'when',\n",
              " 'onto',\n",
              " 'whether',\n",
              " 'out',\n",
              " 'moreover',\n",
              " 'these',\n",
              " 'get',\n",
              " 'they',\n",
              " '’m',\n",
              " 'at',\n",
              " 'a',\n",
              " 'now',\n",
              " 'one',\n",
              " 'many',\n",
              " 'her',\n",
              " 'off',\n",
              " 'several',\n",
              " 'ca',\n",
              " 'using',\n",
              " 'himself',\n",
              " 'least',\n",
              " 'is',\n",
              " '’s',\n",
              " 'then',\n",
              " 'whenever',\n",
              " 'does',\n",
              " 'also',\n",
              " 'toward',\n",
              " 'where',\n",
              " 'much',\n",
              " \"'ll\",\n",
              " 'very',\n",
              " 'noone',\n",
              " 'hereby',\n",
              " '‘ll',\n",
              " 'however',\n",
              " 'behind',\n",
              " 'became',\n",
              " 'may',\n",
              " '‘d',\n",
              " 'meanwhile',\n",
              " 'show',\n",
              " 'before',\n",
              " 'whither',\n",
              " 'who',\n",
              " 'whereas',\n",
              " '‘re',\n",
              " 'five',\n",
              " 'afterwards',\n",
              " 'below',\n",
              " 'become',\n",
              " 'therein',\n",
              " 'anyway',\n",
              " 'enough',\n",
              " 'further',\n",
              " 'cannot',\n",
              " 'always',\n",
              " 'it',\n",
              " 'regarding',\n",
              " 'ten',\n",
              " 'sixty',\n",
              " 'my',\n",
              " 'such',\n",
              " 'nor',\n",
              " 'some',\n",
              " 'against',\n",
              " 'third',\n",
              " 'until',\n",
              " 'therefore',\n",
              " 'same',\n",
              " 'you',\n",
              " 'everywhere',\n",
              " 'via',\n",
              " 'make',\n",
              " 'anyhow',\n",
              " 'alone',\n",
              " 'please',\n",
              " 'as',\n",
              " 'would',\n",
              " 'somehow',\n",
              " 'more',\n",
              " 'say',\n",
              " 'during',\n",
              " 'wherein',\n",
              " 'been',\n",
              " 'about',\n",
              " 'top',\n",
              " 'thereafter',\n",
              " \"'ve\",\n",
              " 'were',\n",
              " 'your',\n",
              " 'nine',\n",
              " 'us',\n",
              " 'go',\n",
              " 'hereafter',\n",
              " 'already',\n",
              " 'them',\n",
              " 'nevertheless',\n",
              " 'ever',\n",
              " 'only',\n",
              " 'last',\n",
              " 'see',\n",
              " 'above',\n",
              " 'another',\n",
              " 'really',\n",
              " '’d',\n",
              " 'he',\n",
              " 'take',\n",
              " 'though',\n",
              " 'first',\n",
              " 'name',\n",
              " 'anyone',\n",
              " 'done',\n",
              " 'for',\n",
              " \"n't\",\n",
              " 'serious',\n",
              " 'beforehand',\n",
              " 'others',\n",
              " 'although',\n",
              " 'n‘t',\n",
              " 'whoever',\n",
              " 'its',\n",
              " 'eight',\n",
              " 'per',\n",
              " 'every',\n",
              " '’re',\n",
              " 'by',\n",
              " 'part',\n",
              " 'without',\n",
              " 'side',\n",
              " 'two',\n",
              " 'down',\n",
              " '‘ve',\n",
              " 'among',\n",
              " \"'d\",\n",
              " 'latter',\n",
              " 'could',\n",
              " 'ours',\n",
              " 'due',\n",
              " \"'re\",\n",
              " 'full',\n",
              " 'next',\n",
              " 'each',\n",
              " 'be',\n",
              " 'throughout',\n",
              " 'beside',\n",
              " 'was',\n",
              " 'yourself',\n",
              " 'made',\n",
              " 'move',\n",
              " 'so',\n",
              " 'seeming',\n",
              " 'whose',\n",
              " 'upon',\n",
              " 'whole',\n",
              " 'their',\n",
              " 'the',\n",
              " 'but',\n",
              " 'hers',\n",
              " 'everyone',\n",
              " 'yet',\n",
              " 'becomes',\n",
              " '’ve',\n",
              " 'our',\n",
              " 'nothing',\n",
              " 'between',\n",
              " 'on',\n",
              " 'other',\n",
              " 'whence',\n",
              " 'three',\n",
              " '‘m',\n",
              " 'nobody',\n",
              " 'well',\n",
              " 'few',\n",
              " 'someone',\n",
              " 'are',\n",
              " 'this',\n",
              " 'besides',\n",
              " 'formerly',\n",
              " 'forty',\n",
              " 'how',\n",
              " 'six',\n",
              " 'whom',\n",
              " 'hence',\n",
              " 'thus',\n",
              " 'herself',\n",
              " 'no',\n",
              " 'never',\n",
              " 'yourselves',\n",
              " 'just',\n",
              " 'indeed',\n",
              " 'from',\n",
              " 'thereupon',\n",
              " '‘s',\n",
              " 'not',\n",
              " 'used',\n",
              " 'hundred',\n",
              " 'i',\n",
              " 'she',\n",
              " 'through',\n",
              " 'we',\n",
              " 'ourselves',\n",
              " '’ll',\n",
              " 'if',\n",
              " 're',\n",
              " 'empty',\n",
              " 'up',\n",
              " 'even',\n",
              " 'otherwise',\n",
              " 'here',\n",
              " 'me',\n",
              " 'seemed',\n",
              " 'less',\n",
              " 'him',\n",
              " 'after',\n",
              " 'mostly',\n",
              " 'four',\n",
              " 'whereupon',\n",
              " 'doing',\n",
              " 'thereby',\n",
              " 'twelve',\n",
              " 'unless',\n",
              " 'than',\n",
              " 'of',\n",
              " 'anything',\n",
              " 'am',\n",
              " 'too',\n",
              " 'under',\n",
              " 'must',\n",
              " 'hereupon',\n",
              " 'elsewhere',\n",
              " 'thru',\n",
              " 'did',\n",
              " 'except',\n",
              " 'amongst',\n",
              " 'an',\n",
              " 'something',\n",
              " 'themselves',\n",
              " 'there',\n",
              " 'everything',\n",
              " 'nowhere',\n",
              " 'keep',\n",
              " 'amount',\n",
              " 'anywhere',\n",
              " 'wherever',\n",
              " 'give',\n",
              " 'herein',\n",
              " 'own',\n",
              " 'myself',\n",
              " 'those',\n",
              " 'neither',\n",
              " 'eleven',\n",
              " 'over',\n",
              " 'seems',\n",
              " 'whereafter',\n",
              " 'almost',\n",
              " 'becoming',\n",
              " 'seem',\n",
              " 'thence',\n",
              " 'put',\n",
              " 'call',\n",
              " 'namely',\n",
              " 'do',\n",
              " 'whatever',\n",
              " 'sometimes',\n",
              " 'often',\n",
              " 'with',\n",
              " 'should',\n",
              " \"'s\",\n",
              " 'bottom',\n",
              " 'why',\n",
              " 'can',\n",
              " 'whereby',\n",
              " 'still',\n",
              " \"'m\",\n",
              " 'while',\n",
              " 'into']"
            ]
          },
          "metadata": {},
          "execution_count": 13
        }
      ]
    },
    {
      "cell_type": "code",
      "source": [
        "len(stopwords)"
      ],
      "metadata": {
        "colab": {
          "base_uri": "https://localhost:8080/"
        },
        "id": "BCnf1oiu9A_x",
        "outputId": "8ed825ed-6511-464b-f805-cf05ebd35ac5"
      },
      "execution_count": 14,
      "outputs": [
        {
          "output_type": "execute_result",
          "data": {
            "text/plain": [
              "326"
            ]
          },
          "metadata": {},
          "execution_count": 14
        }
      ]
    },
    {
      "cell_type": "code",
      "source": [
        "nlp = spacy.load('en_core_web_sm')"
      ],
      "metadata": {
        "id": "YfHIxniV9BDT"
      },
      "execution_count": 15,
      "outputs": []
    },
    {
      "cell_type": "code",
      "source": [
        "text"
      ],
      "metadata": {
        "colab": {
          "base_uri": "https://localhost:8080/",
          "height": 244
        },
        "id": "jOHgRA8B9BGb",
        "outputId": "0d009c67-e54f-40e5-9ee6-30f7c4aa2ff7"
      },
      "execution_count": 16,
      "outputs": [
        {
          "output_type": "execute_result",
          "data": {
            "text/plain": [
              "'There are broadly two types of extractive summarization tasks depending on what the summarization program focuses on. The first is generic summarization, which focuses on obtaining a generic summary or abstract of the collection (whether documents, or sets of images, or videos, news stories etc.). The second is query relevant summarization, sometimes called query-based summarization, which summarizes objects specific to a query. Summarization systems are able to create both query relevant text summaries and generic machine-generated summaries depending on what the user needs.\\nAn example of a summarization problem is document summarization, which attempts to automatically produce an abstract from a given document. Sometimes one might be interested in generating a summary from a single source document, while others can use multiple source documents (for example, a cluster of articles on the same topic). This problem is called multi-document summarization. A related application is summarizing news articles. Imagine a system, which automatically pulls together news articles on a given topic (from the web), and concisely represents the latest news as a summary.\\nImage collection summarization is another application example of automatic summarization. It consists in selecting a representative set of images from a larger set of images.[4] A summary in this context is useful to show the most representative images of results in an image collection exploration system. Video summarization is a related domain, where the system automatically creates a trailer of a long video. This also has applications in consumer or personal videos, where one might want to skip the boring or repetitive actions. Similarly, in surveillance videos, one would want to extract important and suspicious activity, while ignoring all the boring and redundant frames captured '"
            ],
            "application/vnd.google.colaboratory.intrinsic+json": {
              "type": "string"
            }
          },
          "metadata": {},
          "execution_count": 16
        }
      ]
    },
    {
      "cell_type": "code",
      "source": [
        "doc = nlp(text)\n",
        "doc"
      ],
      "metadata": {
        "colab": {
          "base_uri": "https://localhost:8080/"
        },
        "id": "uc3UmQmL9BJx",
        "outputId": "803ba4c5-52c5-4382-d91d-1ee4bd83a3f4"
      },
      "execution_count": 17,
      "outputs": [
        {
          "output_type": "execute_result",
          "data": {
            "text/plain": [
              "There are broadly two types of extractive summarization tasks depending on what the summarization program focuses on. The first is generic summarization, which focuses on obtaining a generic summary or abstract of the collection (whether documents, or sets of images, or videos, news stories etc.). The second is query relevant summarization, sometimes called query-based summarization, which summarizes objects specific to a query. Summarization systems are able to create both query relevant text summaries and generic machine-generated summaries depending on what the user needs.\n",
              "An example of a summarization problem is document summarization, which attempts to automatically produce an abstract from a given document. Sometimes one might be interested in generating a summary from a single source document, while others can use multiple source documents (for example, a cluster of articles on the same topic). This problem is called multi-document summarization. A related application is summarizing news articles. Imagine a system, which automatically pulls together news articles on a given topic (from the web), and concisely represents the latest news as a summary.\n",
              "Image collection summarization is another application example of automatic summarization. It consists in selecting a representative set of images from a larger set of images.[4] A summary in this context is useful to show the most representative images of results in an image collection exploration system. Video summarization is a related domain, where the system automatically creates a trailer of a long video. This also has applications in consumer or personal videos, where one might want to skip the boring or repetitive actions. Similarly, in surveillance videos, one would want to extract important and suspicious activity, while ignoring all the boring and redundant frames captured "
            ]
          },
          "metadata": {},
          "execution_count": 17
        }
      ]
    },
    {
      "cell_type": "code",
      "source": [
        "# lets get the tokens from text\n",
        "tokens = [token.text for token in doc]\n",
        "print(tokens)\n",
        "#when we execute everythihg we created tokens from the text & not removed any of the stopwords & didnt cleaned the data"
      ],
      "metadata": {
        "colab": {
          "base_uri": "https://localhost:8080/"
        },
        "id": "nF5RsgiD9XC3",
        "outputId": "4615aecd-6a12-4b4d-feb0-fdbb1fafcbef"
      },
      "execution_count": 18,
      "outputs": [
        {
          "output_type": "stream",
          "name": "stdout",
          "text": [
            "['There', 'are', 'broadly', 'two', 'types', 'of', 'extractive', 'summarization', 'tasks', 'depending', 'on', 'what', 'the', 'summarization', 'program', 'focuses', 'on', '.', 'The', 'first', 'is', 'generic', 'summarization', ',', 'which', 'focuses', 'on', 'obtaining', 'a', 'generic', 'summary', 'or', 'abstract', 'of', 'the', 'collection', '(', 'whether', 'documents', ',', 'or', 'sets', 'of', 'images', ',', 'or', 'videos', ',', 'news', 'stories', 'etc', '.', ')', '.', 'The', 'second', 'is', 'query', 'relevant', 'summarization', ',', 'sometimes', 'called', 'query', '-', 'based', 'summarization', ',', 'which', 'summarizes', 'objects', 'specific', 'to', 'a', 'query', '.', 'Summarization', 'systems', 'are', 'able', 'to', 'create', 'both', 'query', 'relevant', 'text', 'summaries', 'and', 'generic', 'machine', '-', 'generated', 'summaries', 'depending', 'on', 'what', 'the', 'user', 'needs', '.', '\\n', 'An', 'example', 'of', 'a', 'summarization', 'problem', 'is', 'document', 'summarization', ',', 'which', 'attempts', 'to', 'automatically', 'produce', 'an', 'abstract', 'from', 'a', 'given', 'document', '.', 'Sometimes', 'one', 'might', 'be', 'interested', 'in', 'generating', 'a', 'summary', 'from', 'a', 'single', 'source', 'document', ',', 'while', 'others', 'can', 'use', 'multiple', 'source', 'documents', '(', 'for', 'example', ',', 'a', 'cluster', 'of', 'articles', 'on', 'the', 'same', 'topic', ')', '.', 'This', 'problem', 'is', 'called', 'multi', '-', 'document', 'summarization', '.', 'A', 'related', 'application', 'is', 'summarizing', 'news', 'articles', '.', 'Imagine', 'a', 'system', ',', 'which', 'automatically', 'pulls', 'together', 'news', 'articles', 'on', 'a', 'given', 'topic', '(', 'from', 'the', 'web', ')', ',', 'and', 'concisely', 'represents', 'the', 'latest', 'news', 'as', 'a', 'summary', '.', '\\n', 'Image', 'collection', 'summarization', 'is', 'another', 'application', 'example', 'of', 'automatic', 'summarization', '.', 'It', 'consists', 'in', 'selecting', 'a', 'representative', 'set', 'of', 'images', 'from', 'a', 'larger', 'set', 'of', 'images.[4', ']', 'A', 'summary', 'in', 'this', 'context', 'is', 'useful', 'to', 'show', 'the', 'most', 'representative', 'images', 'of', 'results', 'in', 'an', 'image', 'collection', 'exploration', 'system', '.', 'Video', 'summarization', 'is', 'a', 'related', 'domain', ',', 'where', 'the', 'system', 'automatically', 'creates', 'a', 'trailer', 'of', 'a', 'long', 'video', '.', 'This', 'also', 'has', 'applications', 'in', 'consumer', 'or', 'personal', 'videos', ',', 'where', 'one', 'might', 'want', 'to', 'skip', 'the', 'boring', 'or', 'repetitive', 'actions', '.', 'Similarly', ',', 'in', 'surveillance', 'videos', ',', 'one', 'would', 'want', 'to', 'extract', 'important', 'and', 'suspicious', 'activity', ',', 'while', 'ignoring', 'all', 'the', 'boring', 'and', 'redundant', 'frames', 'captured']\n"
          ]
        }
      ]
    },
    {
      "cell_type": "code",
      "source": [
        "# TEAM PLEASE INSTALL FR_CORE_WEB_SM (PLEASE DONWLOAD THE STOPWONR , LEN OF THE STOPWORDS)"
      ],
      "metadata": {
        "id": "RawtGD8w9XIl"
      },
      "execution_count": null,
      "outputs": []
    },
    {
      "cell_type": "code",
      "source": [
        "tokens"
      ],
      "metadata": {
        "colab": {
          "base_uri": "https://localhost:8080/"
        },
        "id": "SRmX8tTy9XKl",
        "outputId": "698a649d-ee5e-4720-b3d7-3f4e442e0bd1"
      },
      "execution_count": 19,
      "outputs": [
        {
          "output_type": "execute_result",
          "data": {
            "text/plain": [
              "['There',\n",
              " 'are',\n",
              " 'broadly',\n",
              " 'two',\n",
              " 'types',\n",
              " 'of',\n",
              " 'extractive',\n",
              " 'summarization',\n",
              " 'tasks',\n",
              " 'depending',\n",
              " 'on',\n",
              " 'what',\n",
              " 'the',\n",
              " 'summarization',\n",
              " 'program',\n",
              " 'focuses',\n",
              " 'on',\n",
              " '.',\n",
              " 'The',\n",
              " 'first',\n",
              " 'is',\n",
              " 'generic',\n",
              " 'summarization',\n",
              " ',',\n",
              " 'which',\n",
              " 'focuses',\n",
              " 'on',\n",
              " 'obtaining',\n",
              " 'a',\n",
              " 'generic',\n",
              " 'summary',\n",
              " 'or',\n",
              " 'abstract',\n",
              " 'of',\n",
              " 'the',\n",
              " 'collection',\n",
              " '(',\n",
              " 'whether',\n",
              " 'documents',\n",
              " ',',\n",
              " 'or',\n",
              " 'sets',\n",
              " 'of',\n",
              " 'images',\n",
              " ',',\n",
              " 'or',\n",
              " 'videos',\n",
              " ',',\n",
              " 'news',\n",
              " 'stories',\n",
              " 'etc',\n",
              " '.',\n",
              " ')',\n",
              " '.',\n",
              " 'The',\n",
              " 'second',\n",
              " 'is',\n",
              " 'query',\n",
              " 'relevant',\n",
              " 'summarization',\n",
              " ',',\n",
              " 'sometimes',\n",
              " 'called',\n",
              " 'query',\n",
              " '-',\n",
              " 'based',\n",
              " 'summarization',\n",
              " ',',\n",
              " 'which',\n",
              " 'summarizes',\n",
              " 'objects',\n",
              " 'specific',\n",
              " 'to',\n",
              " 'a',\n",
              " 'query',\n",
              " '.',\n",
              " 'Summarization',\n",
              " 'systems',\n",
              " 'are',\n",
              " 'able',\n",
              " 'to',\n",
              " 'create',\n",
              " 'both',\n",
              " 'query',\n",
              " 'relevant',\n",
              " 'text',\n",
              " 'summaries',\n",
              " 'and',\n",
              " 'generic',\n",
              " 'machine',\n",
              " '-',\n",
              " 'generated',\n",
              " 'summaries',\n",
              " 'depending',\n",
              " 'on',\n",
              " 'what',\n",
              " 'the',\n",
              " 'user',\n",
              " 'needs',\n",
              " '.',\n",
              " '\\n',\n",
              " 'An',\n",
              " 'example',\n",
              " 'of',\n",
              " 'a',\n",
              " 'summarization',\n",
              " 'problem',\n",
              " 'is',\n",
              " 'document',\n",
              " 'summarization',\n",
              " ',',\n",
              " 'which',\n",
              " 'attempts',\n",
              " 'to',\n",
              " 'automatically',\n",
              " 'produce',\n",
              " 'an',\n",
              " 'abstract',\n",
              " 'from',\n",
              " 'a',\n",
              " 'given',\n",
              " 'document',\n",
              " '.',\n",
              " 'Sometimes',\n",
              " 'one',\n",
              " 'might',\n",
              " 'be',\n",
              " 'interested',\n",
              " 'in',\n",
              " 'generating',\n",
              " 'a',\n",
              " 'summary',\n",
              " 'from',\n",
              " 'a',\n",
              " 'single',\n",
              " 'source',\n",
              " 'document',\n",
              " ',',\n",
              " 'while',\n",
              " 'others',\n",
              " 'can',\n",
              " 'use',\n",
              " 'multiple',\n",
              " 'source',\n",
              " 'documents',\n",
              " '(',\n",
              " 'for',\n",
              " 'example',\n",
              " ',',\n",
              " 'a',\n",
              " 'cluster',\n",
              " 'of',\n",
              " 'articles',\n",
              " 'on',\n",
              " 'the',\n",
              " 'same',\n",
              " 'topic',\n",
              " ')',\n",
              " '.',\n",
              " 'This',\n",
              " 'problem',\n",
              " 'is',\n",
              " 'called',\n",
              " 'multi',\n",
              " '-',\n",
              " 'document',\n",
              " 'summarization',\n",
              " '.',\n",
              " 'A',\n",
              " 'related',\n",
              " 'application',\n",
              " 'is',\n",
              " 'summarizing',\n",
              " 'news',\n",
              " 'articles',\n",
              " '.',\n",
              " 'Imagine',\n",
              " 'a',\n",
              " 'system',\n",
              " ',',\n",
              " 'which',\n",
              " 'automatically',\n",
              " 'pulls',\n",
              " 'together',\n",
              " 'news',\n",
              " 'articles',\n",
              " 'on',\n",
              " 'a',\n",
              " 'given',\n",
              " 'topic',\n",
              " '(',\n",
              " 'from',\n",
              " 'the',\n",
              " 'web',\n",
              " ')',\n",
              " ',',\n",
              " 'and',\n",
              " 'concisely',\n",
              " 'represents',\n",
              " 'the',\n",
              " 'latest',\n",
              " 'news',\n",
              " 'as',\n",
              " 'a',\n",
              " 'summary',\n",
              " '.',\n",
              " '\\n',\n",
              " 'Image',\n",
              " 'collection',\n",
              " 'summarization',\n",
              " 'is',\n",
              " 'another',\n",
              " 'application',\n",
              " 'example',\n",
              " 'of',\n",
              " 'automatic',\n",
              " 'summarization',\n",
              " '.',\n",
              " 'It',\n",
              " 'consists',\n",
              " 'in',\n",
              " 'selecting',\n",
              " 'a',\n",
              " 'representative',\n",
              " 'set',\n",
              " 'of',\n",
              " 'images',\n",
              " 'from',\n",
              " 'a',\n",
              " 'larger',\n",
              " 'set',\n",
              " 'of',\n",
              " 'images.[4',\n",
              " ']',\n",
              " 'A',\n",
              " 'summary',\n",
              " 'in',\n",
              " 'this',\n",
              " 'context',\n",
              " 'is',\n",
              " 'useful',\n",
              " 'to',\n",
              " 'show',\n",
              " 'the',\n",
              " 'most',\n",
              " 'representative',\n",
              " 'images',\n",
              " 'of',\n",
              " 'results',\n",
              " 'in',\n",
              " 'an',\n",
              " 'image',\n",
              " 'collection',\n",
              " 'exploration',\n",
              " 'system',\n",
              " '.',\n",
              " 'Video',\n",
              " 'summarization',\n",
              " 'is',\n",
              " 'a',\n",
              " 'related',\n",
              " 'domain',\n",
              " ',',\n",
              " 'where',\n",
              " 'the',\n",
              " 'system',\n",
              " 'automatically',\n",
              " 'creates',\n",
              " 'a',\n",
              " 'trailer',\n",
              " 'of',\n",
              " 'a',\n",
              " 'long',\n",
              " 'video',\n",
              " '.',\n",
              " 'This',\n",
              " 'also',\n",
              " 'has',\n",
              " 'applications',\n",
              " 'in',\n",
              " 'consumer',\n",
              " 'or',\n",
              " 'personal',\n",
              " 'videos',\n",
              " ',',\n",
              " 'where',\n",
              " 'one',\n",
              " 'might',\n",
              " 'want',\n",
              " 'to',\n",
              " 'skip',\n",
              " 'the',\n",
              " 'boring',\n",
              " 'or',\n",
              " 'repetitive',\n",
              " 'actions',\n",
              " '.',\n",
              " 'Similarly',\n",
              " ',',\n",
              " 'in',\n",
              " 'surveillance',\n",
              " 'videos',\n",
              " ',',\n",
              " 'one',\n",
              " 'would',\n",
              " 'want',\n",
              " 'to',\n",
              " 'extract',\n",
              " 'important',\n",
              " 'and',\n",
              " 'suspicious',\n",
              " 'activity',\n",
              " ',',\n",
              " 'while',\n",
              " 'ignoring',\n",
              " 'all',\n",
              " 'the',\n",
              " 'boring',\n",
              " 'and',\n",
              " 'redundant',\n",
              " 'frames',\n",
              " 'captured']"
            ]
          },
          "metadata": {},
          "execution_count": 19
        }
      ]
    },
    {
      "cell_type": "code",
      "source": [
        "len(tokens)\n"
      ],
      "metadata": {
        "colab": {
          "base_uri": "https://localhost:8080/"
        },
        "id": "2vvdYDGy9XOi",
        "outputId": "631ffd90-52a0-4561-8ea8-7ecc16b1fc05"
      },
      "execution_count": 20,
      "outputs": [
        {
          "output_type": "execute_result",
          "data": {
            "text/plain": [
              "322"
            ]
          },
          "metadata": {},
          "execution_count": 20
        }
      ]
    },
    {
      "cell_type": "code",
      "source": [
        "punctuation # also called as noisy characters"
      ],
      "metadata": {
        "colab": {
          "base_uri": "https://localhost:8080/",
          "height": 35
        },
        "id": "5KBJKdwR9XQ6",
        "outputId": "60a8d1a1-9bc4-415f-b5a6-24866eb44f3a"
      },
      "execution_count": 21,
      "outputs": [
        {
          "output_type": "execute_result",
          "data": {
            "text/plain": [
              "'!\"#$%&\\'()*+,-./:;<=>?@[\\\\]^_`{|}~'"
            ],
            "application/vnd.google.colaboratory.intrinsic+json": {
              "type": "string"
            }
          },
          "metadata": {},
          "execution_count": 21
        }
      ]
    },
    {
      "cell_type": "code",
      "source": [
        "doc"
      ],
      "metadata": {
        "colab": {
          "base_uri": "https://localhost:8080/"
        },
        "id": "yKfrNke69XU1",
        "outputId": "2f08c4b0-9dff-4a41-ea34-2a8f4815d29a"
      },
      "execution_count": 22,
      "outputs": [
        {
          "output_type": "execute_result",
          "data": {
            "text/plain": [
              "There are broadly two types of extractive summarization tasks depending on what the summarization program focuses on. The first is generic summarization, which focuses on obtaining a generic summary or abstract of the collection (whether documents, or sets of images, or videos, news stories etc.). The second is query relevant summarization, sometimes called query-based summarization, which summarizes objects specific to a query. Summarization systems are able to create both query relevant text summaries and generic machine-generated summaries depending on what the user needs.\n",
              "An example of a summarization problem is document summarization, which attempts to automatically produce an abstract from a given document. Sometimes one might be interested in generating a summary from a single source document, while others can use multiple source documents (for example, a cluster of articles on the same topic). This problem is called multi-document summarization. A related application is summarizing news articles. Imagine a system, which automatically pulls together news articles on a given topic (from the web), and concisely represents the latest news as a summary.\n",
              "Image collection summarization is another application example of automatic summarization. It consists in selecting a representative set of images from a larger set of images.[4] A summary in this context is useful to show the most representative images of results in an image collection exploration system. Video summarization is a related domain, where the system automatically creates a trailer of a long video. This also has applications in consumer or personal videos, where one might want to skip the boring or repetitive actions. Similarly, in surveillance videos, one would want to extract important and suspicious activity, while ignoring all the boring and redundant frames captured "
            ]
          },
          "metadata": {},
          "execution_count": 22
        }
      ]
    },
    {
      "cell_type": "code",
      "source": [
        "#we have to calcualte the freaquency of each and every word, how many time word is repetation in text\n",
        "\n",
        "word_frequencies = {}\n",
        "\n",
        "for word in doc:\n",
        "    if word.text.lower() not in stopwords:\n",
        "        if word.text.lower() not in punctuation:\n",
        "            if word.text not in word_frequencies.keys():\n",
        "                word_frequencies[word.text] = 1\n",
        "            else:\n",
        "                word_frequencies[word.text] += 1"
      ],
      "metadata": {
        "id": "Qfpv1L8k9XYb"
      },
      "execution_count": 23,
      "outputs": []
    },
    {
      "cell_type": "code",
      "source": [
        "word_frequencies\n",
        "#print(word_frequencies)"
      ],
      "metadata": {
        "colab": {
          "base_uri": "https://localhost:8080/"
        },
        "id": "B7i_Zm1Y9BMo",
        "outputId": "7673b6f2-ddf1-4793-e98c-e97dd87ca39e"
      },
      "execution_count": 24,
      "outputs": [
        {
          "output_type": "execute_result",
          "data": {
            "text/plain": [
              "{'broadly': 1,\n",
              " 'types': 1,\n",
              " 'extractive': 1,\n",
              " 'summarization': 11,\n",
              " 'tasks': 1,\n",
              " 'depending': 2,\n",
              " 'program': 1,\n",
              " 'focuses': 2,\n",
              " 'generic': 3,\n",
              " 'obtaining': 1,\n",
              " 'summary': 4,\n",
              " 'abstract': 2,\n",
              " 'collection': 3,\n",
              " 'documents': 2,\n",
              " 'sets': 1,\n",
              " 'images': 3,\n",
              " 'videos': 3,\n",
              " 'news': 4,\n",
              " 'stories': 1,\n",
              " 'etc': 1,\n",
              " 'second': 1,\n",
              " 'query': 4,\n",
              " 'relevant': 2,\n",
              " 'called': 2,\n",
              " 'based': 1,\n",
              " 'summarizes': 1,\n",
              " 'objects': 1,\n",
              " 'specific': 1,\n",
              " 'Summarization': 1,\n",
              " 'systems': 1,\n",
              " 'able': 1,\n",
              " 'create': 1,\n",
              " 'text': 1,\n",
              " 'summaries': 2,\n",
              " 'machine': 1,\n",
              " 'generated': 1,\n",
              " 'user': 1,\n",
              " 'needs': 1,\n",
              " '\\n': 2,\n",
              " 'example': 3,\n",
              " 'problem': 2,\n",
              " 'document': 4,\n",
              " 'attempts': 1,\n",
              " 'automatically': 3,\n",
              " 'produce': 1,\n",
              " 'given': 2,\n",
              " 'interested': 1,\n",
              " 'generating': 1,\n",
              " 'single': 1,\n",
              " 'source': 2,\n",
              " 'use': 1,\n",
              " 'multiple': 1,\n",
              " 'cluster': 1,\n",
              " 'articles': 3,\n",
              " 'topic': 2,\n",
              " 'multi': 1,\n",
              " 'related': 2,\n",
              " 'application': 2,\n",
              " 'summarizing': 1,\n",
              " 'Imagine': 1,\n",
              " 'system': 3,\n",
              " 'pulls': 1,\n",
              " 'web': 1,\n",
              " 'concisely': 1,\n",
              " 'represents': 1,\n",
              " 'latest': 1,\n",
              " 'Image': 1,\n",
              " 'automatic': 1,\n",
              " 'consists': 1,\n",
              " 'selecting': 1,\n",
              " 'representative': 2,\n",
              " 'set': 2,\n",
              " 'larger': 1,\n",
              " 'images.[4': 1,\n",
              " 'context': 1,\n",
              " 'useful': 1,\n",
              " 'results': 1,\n",
              " 'image': 1,\n",
              " 'exploration': 1,\n",
              " 'Video': 1,\n",
              " 'domain': 1,\n",
              " 'creates': 1,\n",
              " 'trailer': 1,\n",
              " 'long': 1,\n",
              " 'video': 1,\n",
              " 'applications': 1,\n",
              " 'consumer': 1,\n",
              " 'personal': 1,\n",
              " 'want': 2,\n",
              " 'skip': 1,\n",
              " 'boring': 2,\n",
              " 'repetitive': 1,\n",
              " 'actions': 1,\n",
              " 'Similarly': 1,\n",
              " 'surveillance': 1,\n",
              " 'extract': 1,\n",
              " 'important': 1,\n",
              " 'suspicious': 1,\n",
              " 'activity': 1,\n",
              " 'ignoring': 1,\n",
              " 'redundant': 1,\n",
              " 'frames': 1,\n",
              " 'captured': 1}"
            ]
          },
          "metadata": {},
          "execution_count": 24
        }
      ]
    },
    {
      "cell_type": "code",
      "source": [
        "len(word_frequencies)"
      ],
      "metadata": {
        "colab": {
          "base_uri": "https://localhost:8080/"
        },
        "id": "c8GS2IBK9xpr",
        "outputId": "7e6022d4-cc60-49ba-8e52-8e43329a695f"
      },
      "execution_count": 25,
      "outputs": [
        {
          "output_type": "execute_result",
          "data": {
            "text/plain": [
              "103"
            ]
          },
          "metadata": {},
          "execution_count": 25
        }
      ]
    },
    {
      "cell_type": "code",
      "source": [
        "word_frequencies"
      ],
      "metadata": {
        "colab": {
          "base_uri": "https://localhost:8080/"
        },
        "id": "nRRMwH_99xzD",
        "outputId": "f2f1bc87-1c35-4dce-cbf8-987b64b0cc2f"
      },
      "execution_count": 26,
      "outputs": [
        {
          "output_type": "execute_result",
          "data": {
            "text/plain": [
              "{'broadly': 1,\n",
              " 'types': 1,\n",
              " 'extractive': 1,\n",
              " 'summarization': 11,\n",
              " 'tasks': 1,\n",
              " 'depending': 2,\n",
              " 'program': 1,\n",
              " 'focuses': 2,\n",
              " 'generic': 3,\n",
              " 'obtaining': 1,\n",
              " 'summary': 4,\n",
              " 'abstract': 2,\n",
              " 'collection': 3,\n",
              " 'documents': 2,\n",
              " 'sets': 1,\n",
              " 'images': 3,\n",
              " 'videos': 3,\n",
              " 'news': 4,\n",
              " 'stories': 1,\n",
              " 'etc': 1,\n",
              " 'second': 1,\n",
              " 'query': 4,\n",
              " 'relevant': 2,\n",
              " 'called': 2,\n",
              " 'based': 1,\n",
              " 'summarizes': 1,\n",
              " 'objects': 1,\n",
              " 'specific': 1,\n",
              " 'Summarization': 1,\n",
              " 'systems': 1,\n",
              " 'able': 1,\n",
              " 'create': 1,\n",
              " 'text': 1,\n",
              " 'summaries': 2,\n",
              " 'machine': 1,\n",
              " 'generated': 1,\n",
              " 'user': 1,\n",
              " 'needs': 1,\n",
              " '\\n': 2,\n",
              " 'example': 3,\n",
              " 'problem': 2,\n",
              " 'document': 4,\n",
              " 'attempts': 1,\n",
              " 'automatically': 3,\n",
              " 'produce': 1,\n",
              " 'given': 2,\n",
              " 'interested': 1,\n",
              " 'generating': 1,\n",
              " 'single': 1,\n",
              " 'source': 2,\n",
              " 'use': 1,\n",
              " 'multiple': 1,\n",
              " 'cluster': 1,\n",
              " 'articles': 3,\n",
              " 'topic': 2,\n",
              " 'multi': 1,\n",
              " 'related': 2,\n",
              " 'application': 2,\n",
              " 'summarizing': 1,\n",
              " 'Imagine': 1,\n",
              " 'system': 3,\n",
              " 'pulls': 1,\n",
              " 'web': 1,\n",
              " 'concisely': 1,\n",
              " 'represents': 1,\n",
              " 'latest': 1,\n",
              " 'Image': 1,\n",
              " 'automatic': 1,\n",
              " 'consists': 1,\n",
              " 'selecting': 1,\n",
              " 'representative': 2,\n",
              " 'set': 2,\n",
              " 'larger': 1,\n",
              " 'images.[4': 1,\n",
              " 'context': 1,\n",
              " 'useful': 1,\n",
              " 'results': 1,\n",
              " 'image': 1,\n",
              " 'exploration': 1,\n",
              " 'Video': 1,\n",
              " 'domain': 1,\n",
              " 'creates': 1,\n",
              " 'trailer': 1,\n",
              " 'long': 1,\n",
              " 'video': 1,\n",
              " 'applications': 1,\n",
              " 'consumer': 1,\n",
              " 'personal': 1,\n",
              " 'want': 2,\n",
              " 'skip': 1,\n",
              " 'boring': 2,\n",
              " 'repetitive': 1,\n",
              " 'actions': 1,\n",
              " 'Similarly': 1,\n",
              " 'surveillance': 1,\n",
              " 'extract': 1,\n",
              " 'important': 1,\n",
              " 'suspicious': 1,\n",
              " 'activity': 1,\n",
              " 'ignoring': 1,\n",
              " 'redundant': 1,\n",
              " 'frames': 1,\n",
              " 'captured': 1}"
            ]
          },
          "metadata": {},
          "execution_count": 26
        }
      ]
    },
    {
      "cell_type": "code",
      "source": [
        "max_frequency = max(word_frequencies.values())\n",
        "max_frequency"
      ],
      "metadata": {
        "colab": {
          "base_uri": "https://localhost:8080/"
        },
        "id": "cfTDhfYu9x1n",
        "outputId": "79fac29f-ae41-4c15-9bb3-b647af944720"
      },
      "execution_count": 27,
      "outputs": [
        {
          "output_type": "execute_result",
          "data": {
            "text/plain": [
              "11"
            ]
          },
          "metadata": {},
          "execution_count": 27
        }
      ]
    },
    {
      "cell_type": "code",
      "source": [
        "#to get normalized/weighted frequencies you should devide all frequencies with 11\n",
        "for word in word_frequencies.keys():\n",
        "    word_frequencies[word] = word_frequencies[word]/max_frequency"
      ],
      "metadata": {
        "id": "WGOj4Xlw9x5G"
      },
      "execution_count": 28,
      "outputs": []
    },
    {
      "cell_type": "code",
      "source": [
        "#print(word_frequencies)\n",
        "word_frequencies\n",
        "#this is the normalized frequencies of each word"
      ],
      "metadata": {
        "colab": {
          "base_uri": "https://localhost:8080/"
        },
        "id": "yDm8qZzZ9x7r",
        "outputId": "02b55413-c22a-4414-ce29-6a964cf335da"
      },
      "execution_count": 29,
      "outputs": [
        {
          "output_type": "execute_result",
          "data": {
            "text/plain": [
              "{'broadly': 0.09090909090909091,\n",
              " 'types': 0.09090909090909091,\n",
              " 'extractive': 0.09090909090909091,\n",
              " 'summarization': 1.0,\n",
              " 'tasks': 0.09090909090909091,\n",
              " 'depending': 0.18181818181818182,\n",
              " 'program': 0.09090909090909091,\n",
              " 'focuses': 0.18181818181818182,\n",
              " 'generic': 0.2727272727272727,\n",
              " 'obtaining': 0.09090909090909091,\n",
              " 'summary': 0.36363636363636365,\n",
              " 'abstract': 0.18181818181818182,\n",
              " 'collection': 0.2727272727272727,\n",
              " 'documents': 0.18181818181818182,\n",
              " 'sets': 0.09090909090909091,\n",
              " 'images': 0.2727272727272727,\n",
              " 'videos': 0.2727272727272727,\n",
              " 'news': 0.36363636363636365,\n",
              " 'stories': 0.09090909090909091,\n",
              " 'etc': 0.09090909090909091,\n",
              " 'second': 0.09090909090909091,\n",
              " 'query': 0.36363636363636365,\n",
              " 'relevant': 0.18181818181818182,\n",
              " 'called': 0.18181818181818182,\n",
              " 'based': 0.09090909090909091,\n",
              " 'summarizes': 0.09090909090909091,\n",
              " 'objects': 0.09090909090909091,\n",
              " 'specific': 0.09090909090909091,\n",
              " 'Summarization': 0.09090909090909091,\n",
              " 'systems': 0.09090909090909091,\n",
              " 'able': 0.09090909090909091,\n",
              " 'create': 0.09090909090909091,\n",
              " 'text': 0.09090909090909091,\n",
              " 'summaries': 0.18181818181818182,\n",
              " 'machine': 0.09090909090909091,\n",
              " 'generated': 0.09090909090909091,\n",
              " 'user': 0.09090909090909091,\n",
              " 'needs': 0.09090909090909091,\n",
              " '\\n': 0.18181818181818182,\n",
              " 'example': 0.2727272727272727,\n",
              " 'problem': 0.18181818181818182,\n",
              " 'document': 0.36363636363636365,\n",
              " 'attempts': 0.09090909090909091,\n",
              " 'automatically': 0.2727272727272727,\n",
              " 'produce': 0.09090909090909091,\n",
              " 'given': 0.18181818181818182,\n",
              " 'interested': 0.09090909090909091,\n",
              " 'generating': 0.09090909090909091,\n",
              " 'single': 0.09090909090909091,\n",
              " 'source': 0.18181818181818182,\n",
              " 'use': 0.09090909090909091,\n",
              " 'multiple': 0.09090909090909091,\n",
              " 'cluster': 0.09090909090909091,\n",
              " 'articles': 0.2727272727272727,\n",
              " 'topic': 0.18181818181818182,\n",
              " 'multi': 0.09090909090909091,\n",
              " 'related': 0.18181818181818182,\n",
              " 'application': 0.18181818181818182,\n",
              " 'summarizing': 0.09090909090909091,\n",
              " 'Imagine': 0.09090909090909091,\n",
              " 'system': 0.2727272727272727,\n",
              " 'pulls': 0.09090909090909091,\n",
              " 'web': 0.09090909090909091,\n",
              " 'concisely': 0.09090909090909091,\n",
              " 'represents': 0.09090909090909091,\n",
              " 'latest': 0.09090909090909091,\n",
              " 'Image': 0.09090909090909091,\n",
              " 'automatic': 0.09090909090909091,\n",
              " 'consists': 0.09090909090909091,\n",
              " 'selecting': 0.09090909090909091,\n",
              " 'representative': 0.18181818181818182,\n",
              " 'set': 0.18181818181818182,\n",
              " 'larger': 0.09090909090909091,\n",
              " 'images.[4': 0.09090909090909091,\n",
              " 'context': 0.09090909090909091,\n",
              " 'useful': 0.09090909090909091,\n",
              " 'results': 0.09090909090909091,\n",
              " 'image': 0.09090909090909091,\n",
              " 'exploration': 0.09090909090909091,\n",
              " 'Video': 0.09090909090909091,\n",
              " 'domain': 0.09090909090909091,\n",
              " 'creates': 0.09090909090909091,\n",
              " 'trailer': 0.09090909090909091,\n",
              " 'long': 0.09090909090909091,\n",
              " 'video': 0.09090909090909091,\n",
              " 'applications': 0.09090909090909091,\n",
              " 'consumer': 0.09090909090909091,\n",
              " 'personal': 0.09090909090909091,\n",
              " 'want': 0.18181818181818182,\n",
              " 'skip': 0.09090909090909091,\n",
              " 'boring': 0.18181818181818182,\n",
              " 'repetitive': 0.09090909090909091,\n",
              " 'actions': 0.09090909090909091,\n",
              " 'Similarly': 0.09090909090909091,\n",
              " 'surveillance': 0.09090909090909091,\n",
              " 'extract': 0.09090909090909091,\n",
              " 'important': 0.09090909090909091,\n",
              " 'suspicious': 0.09090909090909091,\n",
              " 'activity': 0.09090909090909091,\n",
              " 'ignoring': 0.09090909090909091,\n",
              " 'redundant': 0.09090909090909091,\n",
              " 'frames': 0.09090909090909091,\n",
              " 'captured': 0.09090909090909091}"
            ]
          },
          "metadata": {},
          "execution_count": 29
        }
      ]
    },
    {
      "cell_type": "code",
      "source": [
        "sentence_tokens = [sent for sent in doc.sents]\n",
        "sentence_tokens"
      ],
      "metadata": {
        "colab": {
          "base_uri": "https://localhost:8080/"
        },
        "id": "ymqKNEOH9x_B",
        "outputId": "2b5349b0-b58c-423d-b5b6-47a516554410"
      },
      "execution_count": 30,
      "outputs": [
        {
          "output_type": "execute_result",
          "data": {
            "text/plain": [
              "[There are broadly two types of extractive summarization tasks depending on what the summarization program focuses on.,\n",
              " The first is generic summarization, which focuses on obtaining a generic summary or abstract of the collection (whether documents, or sets of images, or videos, news stories etc.).,\n",
              " The second is query relevant summarization, sometimes called query-based summarization, which summarizes objects specific to a query.,\n",
              " Summarization systems are able to create both query relevant text summaries and generic machine-generated summaries depending on what the user needs.,\n",
              " An example of a summarization problem is document summarization, which attempts to automatically produce an abstract from a given document.,\n",
              " Sometimes one might be interested in generating a summary from a single source document, while others can use multiple source documents (for example, a cluster of articles on the same topic).,\n",
              " This problem is called multi-document summarization.,\n",
              " A related application is summarizing news articles.,\n",
              " Imagine a system, which automatically pulls together news articles on a given topic (from the web), and concisely represents the latest news as a summary.,\n",
              " Image collection summarization is another application example of automatic summarization.,\n",
              " It consists in selecting a representative set of images from a larger set of images.[4] A summary in this context is useful to show the most representative images of results in an image collection exploration system.,\n",
              " Video summarization is a related domain, where the system automatically creates a trailer of a long video.,\n",
              " This also has applications in consumer or personal videos, where one might want to skip the boring or repetitive actions.,\n",
              " Similarly, in surveillance videos, one would want to extract important and suspicious activity, while ignoring all the boring and redundant frames captured]"
            ]
          },
          "metadata": {},
          "execution_count": 30
        }
      ]
    },
    {
      "cell_type": "code",
      "source": [
        "len(sentence_tokens)"
      ],
      "metadata": {
        "colab": {
          "base_uri": "https://localhost:8080/"
        },
        "id": "Xzkg7IwT9yBW",
        "outputId": "6644c4e3-06bb-4bd2-aa79-343d3ec22306"
      },
      "execution_count": 31,
      "outputs": [
        {
          "output_type": "execute_result",
          "data": {
            "text/plain": [
              "14"
            ]
          },
          "metadata": {},
          "execution_count": 31
        }
      ]
    },
    {
      "cell_type": "code",
      "source": [
        "sentence_tokens"
      ],
      "metadata": {
        "colab": {
          "base_uri": "https://localhost:8080/"
        },
        "id": "T79AZ6Rd9yEk",
        "outputId": "3dd2b841-f5af-404e-9dc3-dce49c1a20c0"
      },
      "execution_count": 32,
      "outputs": [
        {
          "output_type": "execute_result",
          "data": {
            "text/plain": [
              "[There are broadly two types of extractive summarization tasks depending on what the summarization program focuses on.,\n",
              " The first is generic summarization, which focuses on obtaining a generic summary or abstract of the collection (whether documents, or sets of images, or videos, news stories etc.).,\n",
              " The second is query relevant summarization, sometimes called query-based summarization, which summarizes objects specific to a query.,\n",
              " Summarization systems are able to create both query relevant text summaries and generic machine-generated summaries depending on what the user needs.,\n",
              " An example of a summarization problem is document summarization, which attempts to automatically produce an abstract from a given document.,\n",
              " Sometimes one might be interested in generating a summary from a single source document, while others can use multiple source documents (for example, a cluster of articles on the same topic).,\n",
              " This problem is called multi-document summarization.,\n",
              " A related application is summarizing news articles.,\n",
              " Imagine a system, which automatically pulls together news articles on a given topic (from the web), and concisely represents the latest news as a summary.,\n",
              " Image collection summarization is another application example of automatic summarization.,\n",
              " It consists in selecting a representative set of images from a larger set of images.[4] A summary in this context is useful to show the most representative images of results in an image collection exploration system.,\n",
              " Video summarization is a related domain, where the system automatically creates a trailer of a long video.,\n",
              " This also has applications in consumer or personal videos, where one might want to skip the boring or repetitive actions.,\n",
              " Similarly, in surveillance videos, one would want to extract important and suspicious activity, while ignoring all the boring and redundant frames captured]"
            ]
          },
          "metadata": {},
          "execution_count": 32
        }
      ]
    },
    {
      "cell_type": "code",
      "source": [
        "# we are going to calculate the sentence score, to calculate the sentence score\n",
        "sentence_scores = {}\n",
        "\n",
        "for sent in sentence_tokens:\n",
        "    for word in sent:\n",
        "        if word.text.lower() in word_frequencies.keys():\n",
        "            if sent not in sentence_scores.keys():\n",
        "                sentence_scores[sent] = word_frequencies[word.text.lower()]\n",
        "            else:\n",
        "                sentence_scores[sent] += word_frequencies[word.text.lower()]\n",
        ""
      ],
      "metadata": {
        "id": "LtVs_0iB-LcK"
      },
      "execution_count": 33,
      "outputs": []
    },
    {
      "cell_type": "code",
      "source": [
        "sentence_scores"
      ],
      "metadata": {
        "colab": {
          "base_uri": "https://localhost:8080/"
        },
        "id": "yYk2Ygo--LeS",
        "outputId": "95bca69b-008d-4d3b-9b2f-0874b3b5fd59"
      },
      "execution_count": 34,
      "outputs": [
        {
          "output_type": "execute_result",
          "data": {
            "text/plain": [
              "{There are broadly two types of extractive summarization tasks depending on what the summarization program focuses on.: 2.818181818181818,\n",
              " The first is generic summarization, which focuses on obtaining a generic summary or abstract of the collection (whether documents, or sets of images, or videos, news stories etc.).: 3.9999999999999987,\n",
              " The second is query relevant summarization, sometimes called query-based summarization, which summarizes objects specific to a query.: 3.909090909090909,\n",
              " Summarization systems are able to create both query relevant text summaries and generic machine-generated summaries depending on what the user needs.: 3.2727272727272716,\n",
              " An example of a summarization problem is document summarization, which attempts to automatically produce an abstract from a given document.: 3.9999999999999996,\n",
              " Sometimes one might be interested in generating a summary from a single source document, while others can use multiple source documents (for example, a cluster of articles on the same topic).: 2.545454545454545,\n",
              " This problem is called multi-document summarization.: 1.8181818181818183,\n",
              " A related application is summarizing news articles.: 1.0909090909090908,\n",
              " Imagine a system, which automatically pulls together news articles on a given topic (from the web), and concisely represents the latest news as a summary.: 2.9090909090909087,\n",
              " Image collection summarization is another application example of automatic summarization.: 2.909090909090909,\n",
              " It consists in selecting a representative set of images from a larger set of images.[4] A summary in this context is useful to show the most representative images of results in an image collection exploration system.: 2.999999999999999,\n",
              " Video summarization is a related domain, where the system automatically creates a trailer of a long video.: 2.2727272727272725,\n",
              " This also has applications in consumer or personal videos, where one might want to skip the boring or repetitive actions.: 1.1818181818181817,\n",
              " Similarly, in surveillance videos, one would want to extract important and suspicious activity, while ignoring all the boring and redundant frames captured: 1.4545454545454544}"
            ]
          },
          "metadata": {},
          "execution_count": 34
        }
      ]
    },
    {
      "cell_type": "code",
      "source": [
        "#lets say our case study was 30% sentence with maximum scores\n",
        "from heapq import nlargest"
      ],
      "metadata": {
        "id": "GIH8B_Am-Lhw"
      },
      "execution_count": 35,
      "outputs": []
    },
    {
      "cell_type": "code",
      "source": [
        "select_length = int(len(sentence_tokens)*0.4)\n",
        "select_length"
      ],
      "metadata": {
        "colab": {
          "base_uri": "https://localhost:8080/"
        },
        "id": "Djbm7bqk-LkS",
        "outputId": "da8bd17a-7242-4b7e-f630-77fcf647da1e"
      },
      "execution_count": 36,
      "outputs": [
        {
          "output_type": "execute_result",
          "data": {
            "text/plain": [
              "5"
            ]
          },
          "metadata": {},
          "execution_count": 36
        }
      ]
    },
    {
      "cell_type": "code",
      "source": [
        "#we have to select maximum 4 sentences out of all sentences\n",
        "summary = nlargest(select_length,sentence_scores, key = sentence_scores.get)"
      ],
      "metadata": {
        "id": "ISrX95qP-Lnq"
      },
      "execution_count": 37,
      "outputs": []
    },
    {
      "cell_type": "code",
      "source": [
        "summary"
      ],
      "metadata": {
        "colab": {
          "base_uri": "https://localhost:8080/"
        },
        "id": "ET1AKh6e-YLv",
        "outputId": "dfd8068e-953a-4ecd-c159-69dd280b6939"
      },
      "execution_count": 38,
      "outputs": [
        {
          "output_type": "execute_result",
          "data": {
            "text/plain": [
              "[An example of a summarization problem is document summarization, which attempts to automatically produce an abstract from a given document.,\n",
              " The first is generic summarization, which focuses on obtaining a generic summary or abstract of the collection (whether documents, or sets of images, or videos, news stories etc.).,\n",
              " The second is query relevant summarization, sometimes called query-based summarization, which summarizes objects specific to a query.,\n",
              " Summarization systems are able to create both query relevant text summaries and generic machine-generated summaries depending on what the user needs.,\n",
              " It consists in selecting a representative set of images from a larger set of images.[4] A summary in this context is useful to show the most representative images of results in an image collection exploration system.]"
            ]
          },
          "metadata": {},
          "execution_count": 38
        }
      ]
    },
    {
      "cell_type": "code",
      "source": [
        "sentence_scores"
      ],
      "metadata": {
        "colab": {
          "base_uri": "https://localhost:8080/"
        },
        "id": "mXvcUk1C-YZJ",
        "outputId": "6d60c020-3d41-4249-9deb-56a0b1d7087e"
      },
      "execution_count": 39,
      "outputs": [
        {
          "output_type": "execute_result",
          "data": {
            "text/plain": [
              "{There are broadly two types of extractive summarization tasks depending on what the summarization program focuses on.: 2.818181818181818,\n",
              " The first is generic summarization, which focuses on obtaining a generic summary or abstract of the collection (whether documents, or sets of images, or videos, news stories etc.).: 3.9999999999999987,\n",
              " The second is query relevant summarization, sometimes called query-based summarization, which summarizes objects specific to a query.: 3.909090909090909,\n",
              " Summarization systems are able to create both query relevant text summaries and generic machine-generated summaries depending on what the user needs.: 3.2727272727272716,\n",
              " An example of a summarization problem is document summarization, which attempts to automatically produce an abstract from a given document.: 3.9999999999999996,\n",
              " Sometimes one might be interested in generating a summary from a single source document, while others can use multiple source documents (for example, a cluster of articles on the same topic).: 2.545454545454545,\n",
              " This problem is called multi-document summarization.: 1.8181818181818183,\n",
              " A related application is summarizing news articles.: 1.0909090909090908,\n",
              " Imagine a system, which automatically pulls together news articles on a given topic (from the web), and concisely represents the latest news as a summary.: 2.9090909090909087,\n",
              " Image collection summarization is another application example of automatic summarization.: 2.909090909090909,\n",
              " It consists in selecting a representative set of images from a larger set of images.[4] A summary in this context is useful to show the most representative images of results in an image collection exploration system.: 2.999999999999999,\n",
              " Video summarization is a related domain, where the system automatically creates a trailer of a long video.: 2.2727272727272725,\n",
              " This also has applications in consumer or personal videos, where one might want to skip the boring or repetitive actions.: 1.1818181818181817,\n",
              " Similarly, in surveillance videos, one would want to extract important and suspicious activity, while ignoring all the boring and redundant frames captured: 1.4545454545454544}"
            ]
          },
          "metadata": {},
          "execution_count": 39
        }
      ]
    },
    {
      "cell_type": "code",
      "source": [
        "# if i need to combine these top 3 sentencs then\n",
        "\n",
        "final_summary = [word.text for word in summary]"
      ],
      "metadata": {
        "id": "-2MyamlU-YoY"
      },
      "execution_count": 40,
      "outputs": []
    },
    {
      "cell_type": "code",
      "source": [
        "final_summary"
      ],
      "metadata": {
        "colab": {
          "base_uri": "https://localhost:8080/"
        },
        "id": "heC1zB5W-iWi",
        "outputId": "dfdb1371-f5ae-474e-da07-a1b3fb515a46"
      },
      "execution_count": 41,
      "outputs": [
        {
          "output_type": "execute_result",
          "data": {
            "text/plain": [
              "['An example of a summarization problem is document summarization, which attempts to automatically produce an abstract from a given document.',\n",
              " 'The first is generic summarization, which focuses on obtaining a generic summary or abstract of the collection (whether documents, or sets of images, or videos, news stories etc.).',\n",
              " 'The second is query relevant summarization, sometimes called query-based summarization, which summarizes objects specific to a query.',\n",
              " 'Summarization systems are able to create both query relevant text summaries and generic machine-generated summaries depending on what the user needs.\\n',\n",
              " 'It consists in selecting a representative set of images from a larger set of images.[4] A summary in this context is useful to show the most representative images of results in an image collection exploration system.']"
            ]
          },
          "metadata": {},
          "execution_count": 41
        }
      ]
    },
    {
      "cell_type": "code",
      "source": [
        "print(summary) # we get the final summary by our model"
      ],
      "metadata": {
        "colab": {
          "base_uri": "https://localhost:8080/"
        },
        "id": "-r3DqMzi-inF",
        "outputId": "196baedd-39c0-46da-fe89-5f4364ea4b33"
      },
      "execution_count": 42,
      "outputs": [
        {
          "output_type": "stream",
          "name": "stdout",
          "text": [
            "[An example of a summarization problem is document summarization, which attempts to automatically produce an abstract from a given document., The first is generic summarization, which focuses on obtaining a generic summary or abstract of the collection (whether documents, or sets of images, or videos, news stories etc.)., The second is query relevant summarization, sometimes called query-based summarization, which summarizes objects specific to a query., Summarization systems are able to create both query relevant text summaries and generic machine-generated summaries depending on what the user needs.\n",
            ", It consists in selecting a representative set of images from a larger set of images.[4] A summary in this context is useful to show the most representative images of results in an image collection exploration system.]\n"
          ]
        }
      ]
    },
    {
      "cell_type": "code",
      "source": [
        "# client assigne this work nlp enginner -- share this text to cleint for evaluiton\n",
        "# reduce manual work\n",
        "# still pen adn paper"
      ],
      "metadata": {
        "id": "IOHrwUy3-nbC"
      },
      "execution_count": null,
      "outputs": []
    },
    {
      "cell_type": "code",
      "source": [
        "# how to extra text from paper\n",
        "# chate generati ai whoud\n",
        "# RAW PAER PDF\n",
        "#-- PDF to text ( nlp techniqeu)\n",
        "# image (ocr)"
      ],
      "metadata": {
        "id": "E9fKaJMo-nrd"
      },
      "execution_count": null,
      "outputs": []
    }
  ]
}